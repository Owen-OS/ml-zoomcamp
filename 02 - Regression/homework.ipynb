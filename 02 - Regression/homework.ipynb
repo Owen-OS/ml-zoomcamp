{
 "cells": [
  {
   "cell_type": "markdown",
   "id": "12164897-a34f-4aa8-8fe8-c0b77e841bd1",
   "metadata": {},
   "source": [
    "# **2025 - Homework - Regression**"
   ]
  },
  {
   "cell_type": "markdown",
   "id": "af8e221d-3b29-43f3-a63f-39e5a7f79abd",
   "metadata": {},
   "source": [
    "## Part 1"
   ]
  },
  {
   "cell_type": "code",
   "execution_count": 2,
   "id": "df4a96c8-bd38-4965-b443-1fa06ac5242a",
   "metadata": {},
   "outputs": [],
   "source": [
    "import pandas as pd\n",
    "import numpy as np\n",
    "import matplotlib\n",
    "import seaborn as sns\n",
    "from matplotlib import pyplot as plt"
   ]
  },
  {
   "cell_type": "code",
   "execution_count": 3,
   "id": "545d1e2b-8fbd-4633-a4fb-e0086667708d",
   "metadata": {},
   "outputs": [
    {
     "name": "stdout",
     "output_type": "stream",
     "text": [
      "Pandas: 2.3.1\n",
      "Numpy: 2.3.1\n",
      "Matplotlib: 3.10.3\n",
      "Seaborn: 0.13.2\n"
     ]
    }
   ],
   "source": [
    "print(f\"Pandas: {pd.__version__}\\nNumpy: {np.__version__}\\nMatplotlib: {matplotlib.__version__}\\nSeaborn: {sns.__version__}\")"
   ]
  },
  {
   "cell_type": "code",
   "execution_count": 4,
   "id": "0585fb4d-3ead-4a1a-8a89-cd26c8fc0782",
   "metadata": {},
   "outputs": [
    {
     "data": {
      "text/html": [
       "<div>\n",
       "<style scoped>\n",
       "    .dataframe tbody tr th:only-of-type {\n",
       "        vertical-align: middle;\n",
       "    }\n",
       "\n",
       "    .dataframe tbody tr th {\n",
       "        vertical-align: top;\n",
       "    }\n",
       "\n",
       "    .dataframe thead th {\n",
       "        text-align: right;\n",
       "    }\n",
       "</style>\n",
       "<table border=\"1\" class=\"dataframe\">\n",
       "  <thead>\n",
       "    <tr style=\"text-align: right;\">\n",
       "      <th></th>\n",
       "      <th>engine_displacement</th>\n",
       "      <th>horsepower</th>\n",
       "      <th>vehicle_weight</th>\n",
       "      <th>model_year</th>\n",
       "      <th>fuel_efficiency_mpg</th>\n",
       "    </tr>\n",
       "  </thead>\n",
       "  <tbody>\n",
       "    <tr>\n",
       "      <th>0</th>\n",
       "      <td>170</td>\n",
       "      <td>159.0</td>\n",
       "      <td>3413.433759</td>\n",
       "      <td>2003</td>\n",
       "      <td>13.231729</td>\n",
       "    </tr>\n",
       "    <tr>\n",
       "      <th>1</th>\n",
       "      <td>130</td>\n",
       "      <td>97.0</td>\n",
       "      <td>3149.664934</td>\n",
       "      <td>2007</td>\n",
       "      <td>13.688217</td>\n",
       "    </tr>\n",
       "    <tr>\n",
       "      <th>2</th>\n",
       "      <td>170</td>\n",
       "      <td>78.0</td>\n",
       "      <td>3079.038997</td>\n",
       "      <td>2018</td>\n",
       "      <td>14.246341</td>\n",
       "    </tr>\n",
       "    <tr>\n",
       "      <th>3</th>\n",
       "      <td>220</td>\n",
       "      <td>NaN</td>\n",
       "      <td>2542.392402</td>\n",
       "      <td>2009</td>\n",
       "      <td>16.912736</td>\n",
       "    </tr>\n",
       "    <tr>\n",
       "      <th>4</th>\n",
       "      <td>210</td>\n",
       "      <td>140.0</td>\n",
       "      <td>3460.870990</td>\n",
       "      <td>2009</td>\n",
       "      <td>12.488369</td>\n",
       "    </tr>\n",
       "  </tbody>\n",
       "</table>\n",
       "</div>"
      ],
      "text/plain": [
       "   engine_displacement  horsepower  vehicle_weight  model_year  \\\n",
       "0                  170       159.0     3413.433759        2003   \n",
       "1                  130        97.0     3149.664934        2007   \n",
       "2                  170        78.0     3079.038997        2018   \n",
       "3                  220         NaN     2542.392402        2009   \n",
       "4                  210       140.0     3460.870990        2009   \n",
       "\n",
       "   fuel_efficiency_mpg  \n",
       "0            13.231729  \n",
       "1            13.688217  \n",
       "2            14.246341  \n",
       "3            16.912736  \n",
       "4            12.488369  "
      ]
     },
     "execution_count": 4,
     "metadata": {},
     "output_type": "execute_result"
    }
   ],
   "source": [
    "# Import the dataset\n",
    "df = pd.read_csv(\"car_fuel_efficiency.csv\")\n",
    "\n",
    "columns = [\n",
    "    'engine_displacement',\n",
    "    'horsepower',\n",
    "    'vehicle_weight',\n",
    "    'model_year',\n",
    "    'fuel_efficiency_mpg'\n",
    "]\n",
    "df = df[columns]\n",
    "df.head()"
   ]
  },
  {
   "cell_type": "code",
   "execution_count": 5,
   "id": "d3d7afe5-336d-4004-bce2-0b8ca4741c7b",
   "metadata": {},
   "outputs": [
    {
     "data": {
      "text/html": [
       "<div>\n",
       "<style scoped>\n",
       "    .dataframe tbody tr th:only-of-type {\n",
       "        vertical-align: middle;\n",
       "    }\n",
       "\n",
       "    .dataframe tbody tr th {\n",
       "        vertical-align: top;\n",
       "    }\n",
       "\n",
       "    .dataframe thead th {\n",
       "        text-align: right;\n",
       "    }\n",
       "</style>\n",
       "<table border=\"1\" class=\"dataframe\">\n",
       "  <thead>\n",
       "    <tr style=\"text-align: right;\">\n",
       "      <th></th>\n",
       "      <th>engine_displacement</th>\n",
       "      <th>horsepower</th>\n",
       "      <th>vehicle_weight</th>\n",
       "      <th>model_year</th>\n",
       "      <th>fuel_efficiency_mpg</th>\n",
       "    </tr>\n",
       "  </thead>\n",
       "  <tbody>\n",
       "    <tr>\n",
       "      <th>count</th>\n",
       "      <td>9704.000000</td>\n",
       "      <td>8996.000000</td>\n",
       "      <td>9704.000000</td>\n",
       "      <td>9704.000000</td>\n",
       "      <td>9704.000000</td>\n",
       "    </tr>\n",
       "    <tr>\n",
       "      <th>mean</th>\n",
       "      <td>199.708368</td>\n",
       "      <td>149.657292</td>\n",
       "      <td>3001.280993</td>\n",
       "      <td>2011.484027</td>\n",
       "      <td>14.985243</td>\n",
       "    </tr>\n",
       "    <tr>\n",
       "      <th>std</th>\n",
       "      <td>49.455319</td>\n",
       "      <td>29.879555</td>\n",
       "      <td>497.894860</td>\n",
       "      <td>6.659808</td>\n",
       "      <td>2.556468</td>\n",
       "    </tr>\n",
       "    <tr>\n",
       "      <th>min</th>\n",
       "      <td>10.000000</td>\n",
       "      <td>37.000000</td>\n",
       "      <td>952.681761</td>\n",
       "      <td>2000.000000</td>\n",
       "      <td>6.200971</td>\n",
       "    </tr>\n",
       "    <tr>\n",
       "      <th>25%</th>\n",
       "      <td>170.000000</td>\n",
       "      <td>130.000000</td>\n",
       "      <td>2666.248985</td>\n",
       "      <td>2006.000000</td>\n",
       "      <td>13.267459</td>\n",
       "    </tr>\n",
       "    <tr>\n",
       "      <th>50%</th>\n",
       "      <td>200.000000</td>\n",
       "      <td>149.000000</td>\n",
       "      <td>2993.226296</td>\n",
       "      <td>2012.000000</td>\n",
       "      <td>15.006037</td>\n",
       "    </tr>\n",
       "    <tr>\n",
       "      <th>75%</th>\n",
       "      <td>230.000000</td>\n",
       "      <td>170.000000</td>\n",
       "      <td>3334.957039</td>\n",
       "      <td>2017.000000</td>\n",
       "      <td>16.707965</td>\n",
       "    </tr>\n",
       "    <tr>\n",
       "      <th>max</th>\n",
       "      <td>380.000000</td>\n",
       "      <td>271.000000</td>\n",
       "      <td>4739.077089</td>\n",
       "      <td>2023.000000</td>\n",
       "      <td>25.967222</td>\n",
       "    </tr>\n",
       "  </tbody>\n",
       "</table>\n",
       "</div>"
      ],
      "text/plain": [
       "       engine_displacement   horsepower  vehicle_weight   model_year  \\\n",
       "count          9704.000000  8996.000000     9704.000000  9704.000000   \n",
       "mean            199.708368   149.657292     3001.280993  2011.484027   \n",
       "std              49.455319    29.879555      497.894860     6.659808   \n",
       "min              10.000000    37.000000      952.681761  2000.000000   \n",
       "25%             170.000000   130.000000     2666.248985  2006.000000   \n",
       "50%             200.000000   149.000000     2993.226296  2012.000000   \n",
       "75%             230.000000   170.000000     3334.957039  2017.000000   \n",
       "max             380.000000   271.000000     4739.077089  2023.000000   \n",
       "\n",
       "       fuel_efficiency_mpg  \n",
       "count          9704.000000  \n",
       "mean             14.985243  \n",
       "std               2.556468  \n",
       "min               6.200971  \n",
       "25%              13.267459  \n",
       "50%              15.006037  \n",
       "75%              16.707965  \n",
       "max              25.967222  "
      ]
     },
     "execution_count": 5,
     "metadata": {},
     "output_type": "execute_result"
    }
   ],
   "source": [
    "df.describe()"
   ]
  },
  {
   "cell_type": "code",
   "execution_count": 6,
   "id": "c9de0d40-6806-4e5a-95cf-71e0d2978e6e",
   "metadata": {},
   "outputs": [
    {
     "data": {
      "text/plain": [
       "<Axes: xlabel='fuel_efficiency_mpg', ylabel='Count'>"
      ]
     },
     "execution_count": 6,
     "metadata": {},
     "output_type": "execute_result"
    },
    {
     "data": {
      "image/png": "[encoded data removed]",
      "text/plain": [
       "<Figure size 640x480 with 1 Axes>"
      ]
     },
     "metadata": {},
     "output_type": "display_data"
    }
   ],
   "source": [
    "sns.histplot(df.fuel_efficiency_mpg, bins=100)"
   ]
  },
  {
   "cell_type": "markdown",
   "id": "bcce65dc-0974-494d-97c7-7e176964d787",
   "metadata": {},
   "source": [
    "### EDA. Does fuel_efficiency_mpg have a long tail?\n",
    "\n",
    "The data appears to be close to a normal distribution and does not have a long tail"
   ]
  },
  {
   "cell_type": "code",
   "execution_count": 7,
   "id": "eab79640-88c8-428b-9442-df0a25b3fd49",
   "metadata": {},
   "outputs": [
    {
     "data": {
      "text/plain": [
       "engine_displacement      0\n",
       "horsepower             708\n",
       "vehicle_weight           0\n",
       "model_year               0\n",
       "fuel_efficiency_mpg      0\n",
       "dtype: int64"
      ]
     },
     "execution_count": 7,
     "metadata": {},
     "output_type": "execute_result"
    }
   ],
   "source": [
    "df.isnull().sum()"
   ]
  },
  {
   "cell_type": "markdown",
   "id": "9dd9966c-923c-4e04-8a6a-3c4c14fea2b5",
   "metadata": {},
   "source": [
    "### Question 1. Null Values\n",
    "Only the Horsepower column has null values"
   ]
  },
  {
   "cell_type": "code",
   "execution_count": 8,
   "id": "6a4a1476-fc62-44ca-9773-829847bfce2b",
   "metadata": {},
   "outputs": [
    {
     "data": {
      "text/plain": [
       "np.float64(149.0)"
      ]
     },
     "execution_count": 8,
     "metadata": {},
     "output_type": "execute_result"
    }
   ],
   "source": [
    "df.horsepower.median()"
   ]
  },
  {
   "cell_type": "markdown",
   "id": "35869e76-57aa-414d-ade2-7e5f587a295e",
   "metadata": {},
   "source": [
    "### Question 2. Median\n",
    "The median value of Horsepower is 149"
   ]
  },
  {
   "cell_type": "code",
   "execution_count": 9,
   "id": "ed3d8f79-feb1-4244-ab04-fc942bfcb9a4",
   "metadata": {},
   "outputs": [
    {
     "data": {
      "text/plain": [
       "(5824, 1940, 1940, 9704)"
      ]
     },
     "execution_count": 9,
     "metadata": {},
     "output_type": "execute_result"
    }
   ],
   "source": [
    "n = df.shape[0]\n",
    "n_val = (int)(n * 0.2)\n",
    "n_test = (int)(n * 0.2)\n",
    "n_train = n - n_val - n_test\n",
    "\n",
    "n_train, n_val, n_test, n_train + n_val + n_test"
   ]
  },
  {
   "cell_type": "code",
   "execution_count": 10,
   "id": "a5903b07-e2c9-4395-b2a6-0de6684c6d71",
   "metadata": {},
   "outputs": [
    {
     "data": {
      "text/plain": [
       "array([ 483, 7506, 8795, ..., 5390,  860, 7270], shape=(9704,))"
      ]
     },
     "execution_count": 10,
     "metadata": {},
     "output_type": "execute_result"
    }
   ],
   "source": [
    "indexes = np.arange(n)\n",
    "np.random.seed(42)   # seed needs to be in the same block as the shuffle, otherwise the seed gets lost after the first shuffle\n",
    "np.random.shuffle(indexes)\n",
    "indexes"
   ]
  },
  {
   "cell_type": "code",
   "execution_count": 11,
   "id": "2acafbef-3645-4b3c-8c6e-5d359fdfd667",
   "metadata": {},
   "outputs": [],
   "source": [
    "df_train = df.iloc[indexes[:n_train]]\n",
    "df_val = df.iloc[indexes[n_train : n_train + n_val]]\n",
    "df_test = df.iloc[indexes[n_train + n_val : ]]\n",
    "\n",
    "y_train = df_train.fuel_efficiency_mpg\n",
    "y_val = df_val.fuel_efficiency_mpg\n",
    "y_test = df_test.fuel_efficiency_mpg\n",
    "\n",
    "del df_train[\"fuel_efficiency_mpg\"]\n",
    "del df_val[\"fuel_efficiency_mpg\"]\n",
    "del df_test[\"fuel_efficiency_mpg\"]"
   ]
  },
  {
   "cell_type": "code",
   "execution_count": 12,
   "id": "f5316bb2-a8a9-4950-899e-88d4900cf486",
   "metadata": {},
   "outputs": [
    {
     "data": {
      "text/html": [
       "<div>\n",
       "<style scoped>\n",
       "    .dataframe tbody tr th:only-of-type {\n",
       "        vertical-align: middle;\n",
       "    }\n",
       "\n",
       "    .dataframe tbody tr th {\n",
       "        vertical-align: top;\n",
       "    }\n",
       "\n",
       "    .dataframe thead th {\n",
       "        text-align: right;\n",
       "    }\n",
       "</style>\n",
       "<table border=\"1\" class=\"dataframe\">\n",
       "  <thead>\n",
       "    <tr style=\"text-align: right;\">\n",
       "      <th></th>\n",
       "      <th>engine_displacement</th>\n",
       "      <th>horsepower</th>\n",
       "      <th>vehicle_weight</th>\n",
       "      <th>model_year</th>\n",
       "    </tr>\n",
       "  </thead>\n",
       "  <tbody>\n",
       "    <tr>\n",
       "      <th>483</th>\n",
       "      <td>220</td>\n",
       "      <td>144.0</td>\n",
       "      <td>2535.887591</td>\n",
       "      <td>2009</td>\n",
       "    </tr>\n",
       "    <tr>\n",
       "      <th>7506</th>\n",
       "      <td>160</td>\n",
       "      <td>141.0</td>\n",
       "      <td>2741.170484</td>\n",
       "      <td>2019</td>\n",
       "    </tr>\n",
       "    <tr>\n",
       "      <th>8795</th>\n",
       "      <td>230</td>\n",
       "      <td>155.0</td>\n",
       "      <td>2471.880237</td>\n",
       "      <td>2017</td>\n",
       "    </tr>\n",
       "    <tr>\n",
       "      <th>1688</th>\n",
       "      <td>150</td>\n",
       "      <td>206.0</td>\n",
       "      <td>3748.164469</td>\n",
       "      <td>2015</td>\n",
       "    </tr>\n",
       "    <tr>\n",
       "      <th>6217</th>\n",
       "      <td>300</td>\n",
       "      <td>111.0</td>\n",
       "      <td>2135.716359</td>\n",
       "      <td>2006</td>\n",
       "    </tr>\n",
       "  </tbody>\n",
       "</table>\n",
       "</div>"
      ],
      "text/plain": [
       "      engine_displacement  horsepower  vehicle_weight  model_year\n",
       "483                   220       144.0     2535.887591        2009\n",
       "7506                  160       141.0     2741.170484        2019\n",
       "8795                  230       155.0     2471.880237        2017\n",
       "1688                  150       206.0     3748.164469        2015\n",
       "6217                  300       111.0     2135.716359        2006"
      ]
     },
     "execution_count": 12,
     "metadata": {},
     "output_type": "execute_result"
    }
   ],
   "source": [
    "df_train.head()"
   ]
  },
  {
   "cell_type": "code",
   "execution_count": 13,
   "id": "0d9e5c5f-61b5-4751-b1e2-621658f0b429",
   "metadata": {},
   "outputs": [
    {
     "data": {
      "text/plain": [
       "np.float64(149.54476367006487)"
      ]
     },
     "execution_count": 13,
     "metadata": {},
     "output_type": "execute_result"
    }
   ],
   "source": [
    "horsepower_mean = df_train[\"horsepower\"].mean()\n",
    "horsepower_mean"
   ]
  },
  {
   "cell_type": "code",
   "execution_count": 14,
   "id": "ff11c116-ce94-4f9c-a670-5f53cfe86731",
   "metadata": {},
   "outputs": [
    {
     "data": {
      "text/html": [
       "<div>\n",
       "<style scoped>\n",
       "    .dataframe tbody tr th:only-of-type {\n",
       "        vertical-align: middle;\n",
       "    }\n",
       "\n",
       "    .dataframe tbody tr th {\n",
       "        vertical-align: top;\n",
       "    }\n",
       "\n",
       "    .dataframe thead th {\n",
       "        text-align: right;\n",
       "    }\n",
       "</style>\n",
       "<table border=\"1\" class=\"dataframe\">\n",
       "  <thead>\n",
       "    <tr style=\"text-align: right;\">\n",
       "      <th></th>\n",
       "      <th>engine_displacement</th>\n",
       "      <th>horsepower</th>\n",
       "      <th>vehicle_weight</th>\n",
       "      <th>model_year</th>\n",
       "    </tr>\n",
       "  </thead>\n",
       "  <tbody>\n",
       "    <tr>\n",
       "      <th>count</th>\n",
       "      <td>5824.000000</td>\n",
       "      <td>5824.000000</td>\n",
       "      <td>5824.000000</td>\n",
       "      <td>5824.000000</td>\n",
       "    </tr>\n",
       "    <tr>\n",
       "      <th>mean</th>\n",
       "      <td>199.429945</td>\n",
       "      <td>138.529190</td>\n",
       "      <td>3006.672919</td>\n",
       "      <td>2011.444712</td>\n",
       "    </tr>\n",
       "    <tr>\n",
       "      <th>std</th>\n",
       "      <td>49.543177</td>\n",
       "      <td>48.357282</td>\n",
       "      <td>497.856998</td>\n",
       "      <td>6.669193</td>\n",
       "    </tr>\n",
       "    <tr>\n",
       "      <th>min</th>\n",
       "      <td>10.000000</td>\n",
       "      <td>0.000000</td>\n",
       "      <td>952.681761</td>\n",
       "      <td>2000.000000</td>\n",
       "    </tr>\n",
       "    <tr>\n",
       "      <th>25%</th>\n",
       "      <td>170.000000</td>\n",
       "      <td>123.000000</td>\n",
       "      <td>2669.313374</td>\n",
       "      <td>2006.000000</td>\n",
       "    </tr>\n",
       "    <tr>\n",
       "      <th>50%</th>\n",
       "      <td>200.000000</td>\n",
       "      <td>146.000000</td>\n",
       "      <td>2993.348283</td>\n",
       "      <td>2011.000000</td>\n",
       "    </tr>\n",
       "    <tr>\n",
       "      <th>75%</th>\n",
       "      <td>230.000000</td>\n",
       "      <td>168.000000</td>\n",
       "      <td>3342.151520</td>\n",
       "      <td>2017.000000</td>\n",
       "    </tr>\n",
       "    <tr>\n",
       "      <th>max</th>\n",
       "      <td>380.000000</td>\n",
       "      <td>246.000000</td>\n",
       "      <td>4610.973229</td>\n",
       "      <td>2023.000000</td>\n",
       "    </tr>\n",
       "  </tbody>\n",
       "</table>\n",
       "</div>"
      ],
      "text/plain": [
       "       engine_displacement   horsepower  vehicle_weight   model_year\n",
       "count          5824.000000  5824.000000     5824.000000  5824.000000\n",
       "mean            199.429945   138.529190     3006.672919  2011.444712\n",
       "std              49.543177    48.357282      497.856998     6.669193\n",
       "min              10.000000     0.000000      952.681761  2000.000000\n",
       "25%             170.000000   123.000000     2669.313374  2006.000000\n",
       "50%             200.000000   146.000000     2993.348283  2011.000000\n",
       "75%             230.000000   168.000000     3342.151520  2017.000000\n",
       "max             380.000000   246.000000     4610.973229  2023.000000"
      ]
     },
     "execution_count": 14,
     "metadata": {},
     "output_type": "execute_result"
    }
   ],
   "source": [
    "X_train_zeros = df_train.copy().fillna(0)\n",
    "X_train_zeros.describe()"
   ]
  },
  {
   "cell_type": "code",
   "execution_count": 15,
   "id": "c5c8a621-27b8-4d79-be63-20b58896c799",
   "metadata": {},
   "outputs": [
    {
     "data": {
      "text/html": [
       "<div>\n",
       "<style scoped>\n",
       "    .dataframe tbody tr th:only-of-type {\n",
       "        vertical-align: middle;\n",
       "    }\n",
       "\n",
       "    .dataframe tbody tr th {\n",
       "        vertical-align: top;\n",
       "    }\n",
       "\n",
       "    .dataframe thead th {\n",
       "        text-align: right;\n",
       "    }\n",
       "</style>\n",
       "<table border=\"1\" class=\"dataframe\">\n",
       "  <thead>\n",
       "    <tr style=\"text-align: right;\">\n",
       "      <th></th>\n",
       "      <th>engine_displacement</th>\n",
       "      <th>horsepower</th>\n",
       "      <th>vehicle_weight</th>\n",
       "      <th>model_year</th>\n",
       "    </tr>\n",
       "  </thead>\n",
       "  <tbody>\n",
       "    <tr>\n",
       "      <th>count</th>\n",
       "      <td>5824.000000</td>\n",
       "      <td>5824.000000</td>\n",
       "      <td>5824.000000</td>\n",
       "      <td>5824.000000</td>\n",
       "    </tr>\n",
       "    <tr>\n",
       "      <th>mean</th>\n",
       "      <td>199.429945</td>\n",
       "      <td>149.544764</td>\n",
       "      <td>3006.672919</td>\n",
       "      <td>2011.444712</td>\n",
       "    </tr>\n",
       "    <tr>\n",
       "      <th>std</th>\n",
       "      <td>49.543177</td>\n",
       "      <td>28.498880</td>\n",
       "      <td>497.856998</td>\n",
       "      <td>6.669193</td>\n",
       "    </tr>\n",
       "    <tr>\n",
       "      <th>min</th>\n",
       "      <td>10.000000</td>\n",
       "      <td>46.000000</td>\n",
       "      <td>952.681761</td>\n",
       "      <td>2000.000000</td>\n",
       "    </tr>\n",
       "    <tr>\n",
       "      <th>25%</th>\n",
       "      <td>170.000000</td>\n",
       "      <td>131.000000</td>\n",
       "      <td>2669.313374</td>\n",
       "      <td>2006.000000</td>\n",
       "    </tr>\n",
       "    <tr>\n",
       "      <th>50%</th>\n",
       "      <td>200.000000</td>\n",
       "      <td>149.544764</td>\n",
       "      <td>2993.348283</td>\n",
       "      <td>2011.000000</td>\n",
       "    </tr>\n",
       "    <tr>\n",
       "      <th>75%</th>\n",
       "      <td>230.000000</td>\n",
       "      <td>168.000000</td>\n",
       "      <td>3342.151520</td>\n",
       "      <td>2017.000000</td>\n",
       "    </tr>\n",
       "    <tr>\n",
       "      <th>max</th>\n",
       "      <td>380.000000</td>\n",
       "      <td>246.000000</td>\n",
       "      <td>4610.973229</td>\n",
       "      <td>2023.000000</td>\n",
       "    </tr>\n",
       "  </tbody>\n",
       "</table>\n",
       "</div>"
      ],
      "text/plain": [
       "       engine_displacement   horsepower  vehicle_weight   model_year\n",
       "count          5824.000000  5824.000000     5824.000000  5824.000000\n",
       "mean            199.429945   149.544764     3006.672919  2011.444712\n",
       "std              49.543177    28.498880      497.856998     6.669193\n",
       "min              10.000000    46.000000      952.681761  2000.000000\n",
       "25%             170.000000   131.000000     2669.313374  2006.000000\n",
       "50%             200.000000   149.544764     2993.348283  2011.000000\n",
       "75%             230.000000   168.000000     3342.151520  2017.000000\n",
       "max             380.000000   246.000000     4610.973229  2023.000000"
      ]
     },
     "execution_count": 15,
     "metadata": {},
     "output_type": "execute_result"
    }
   ],
   "source": [
    "X_train_mean = df_train.copy().fillna(horsepower_mean)\n",
    "X_train_mean.describe()"
   ]
  },
  {
   "cell_type": "markdown",
   "id": "b9c398ad-0f2a-4c60-9844-2d16443eba0f",
   "metadata": {},
   "source": [
    "$w = (X^TX)^{-1}X^Ty$"
   ]
  },
  {
   "cell_type": "code",
   "execution_count": 16,
   "id": "604acbea-f4ce-4384-b0a7-a0ae685463cf",
   "metadata": {},
   "outputs": [],
   "source": [
    "# Taken from lecture notes\n",
    "def train_linear_regression(X, y):\n",
    "    ones = np.ones(X.shape[0])\n",
    "    X = np.column_stack([ones, X])\n",
    "\n",
    "    XTX = X.T.dot(X)\n",
    "    XTX_inv = np.linalg.inv(XTX)\n",
    "    w = XTX_inv.dot(X.T).dot(y)\n",
    "    \n",
    "    return w[0], w[1:]"
   ]
  },
  {
   "cell_type": "code",
   "execution_count": 17,
   "id": "b86001e2-38b8-480f-8802-4872fd9946a8",
   "metadata": {},
   "outputs": [
    {
     "data": {
      "text/plain": [
       "(np.float64(28.82736547365895),\n",
       " array([ 9.93613218e-05,  3.54221891e-03, -5.01328015e-03,  3.42992870e-04]))"
      ]
     },
     "execution_count": 17,
     "metadata": {},
     "output_type": "execute_result"
    }
   ],
   "source": [
    "w0, w = train_linear_regression(X_train_zeros, y_train)\n",
    "\n",
    "w0, w"
   ]
  },
  {
   "cell_type": "code",
   "execution_count": 18,
   "id": "c2d2f454-ed47-4e3a-b52d-e846b86df60c",
   "metadata": {},
   "outputs": [
    {
     "data": {
      "text/plain": [
       "6163    16.037338\n",
       "3313    14.925222\n",
       "4781    11.864459\n",
       "8210    16.118236\n",
       "6713     9.452563\n",
       "          ...    \n",
       "7802    13.212633\n",
       "6780    16.300389\n",
       "7541    13.695609\n",
       "1577    13.625751\n",
       "3906    16.449368\n",
       "Length: 1940, dtype: float64"
      ]
     },
     "execution_count": 18,
     "metadata": {},
     "output_type": "execute_result"
    }
   ],
   "source": [
    "y_pred_zeros = w0 + df_val.dot(w)\n",
    "y_pred_zeros"
   ]
  },
  {
   "cell_type": "code",
   "execution_count": 19,
   "id": "4093e2ef-23fb-4bdf-928f-53231a0f46b1",
   "metadata": {},
   "outputs": [],
   "source": [
    "# Taken from lecture notes\n",
    "def rmse(y, y_pred):\n",
    "    error = y_pred - y\n",
    "    mse = (error ** 2).mean()\n",
    "    return np.sqrt(mse)"
   ]
  },
  {
   "cell_type": "code",
   "execution_count": 20,
   "id": "937c9f97-6f3a-49c6-9a95-8ff061cd8868",
   "metadata": {},
   "outputs": [
    {
     "data": {
      "text/plain": [
       "np.float64(0.4968600686648501)"
      ]
     },
     "execution_count": 20,
     "metadata": {},
     "output_type": "execute_result"
    }
   ],
   "source": [
    "error_zeros = rmse(y_val, y_pred_zeros)\n",
    "error_zeros"
   ]
  },
  {
   "cell_type": "code",
   "execution_count": 21,
   "id": "04081475-0c58-4d27-8c2c-9bcbf0d19298",
   "metadata": {},
   "outputs": [
    {
     "data": {
      "text/plain": [
       "(np.float64(28.925259951002698),\n",
       " array([ 0.00012093,  0.01030308, -0.00501009, -0.00023463]))"
      ]
     },
     "execution_count": 21,
     "metadata": {},
     "output_type": "execute_result"
    }
   ],
   "source": [
    "w0, w = train_linear_regression(X_train_mean, y_train)\n",
    "w0, w"
   ]
  },
  {
   "cell_type": "code",
   "execution_count": 22,
   "id": "df576c7d-2310-4ad3-a7ca-3642e64c4709",
   "metadata": {},
   "outputs": [
    {
     "data": {
      "text/plain": [
       "6163    15.738375\n",
       "3313    14.803383\n",
       "4781    12.036249\n",
       "8210    15.772093\n",
       "6713     9.924856\n",
       "          ...    \n",
       "7802    13.547392\n",
       "6780    16.325909\n",
       "7541    14.014826\n",
       "1577    13.721614\n",
       "3906    16.193629\n",
       "Length: 1940, dtype: float64"
      ]
     },
     "execution_count": 22,
     "metadata": {},
     "output_type": "execute_result"
    }
   ],
   "source": [
    "y_pred_mean = w0 + df_val.dot(w)\n",
    "y_pred_mean"
   ]
  },
  {
   "cell_type": "code",
   "execution_count": 23,
   "id": "7df4a531-bfdd-46c3-bbd4-95c0e08932fe",
   "metadata": {},
   "outputs": [
    {
     "data": {
      "text/plain": [
       "np.float64(0.45364429177056464)"
      ]
     },
     "execution_count": 23,
     "metadata": {},
     "output_type": "execute_result"
    }
   ],
   "source": [
    "error_mean = rmse(y_val, y_pred_mean)\n",
    "error_mean"
   ]
  },
  {
   "cell_type": "code",
   "execution_count": 24,
   "id": "81e9c44c-f756-4f6d-84c1-958c423fb0e4",
   "metadata": {},
   "outputs": [
    {
     "name": "stdout",
     "output_type": "stream",
     "text": [
      "Filling nulls with zeros: 49.7%\n",
      "Filling nulls with mean: 45.4%\n",
      "Difference: 4.3%\n"
     ]
    }
   ],
   "source": [
    "print(f\"Filling nulls with zeros: {round(error_zeros*100,1)}%\")\n",
    "print(f\"Filling nulls with mean: {round(error_mean*100,1)}%\")\n",
    "print(f\"Difference: {round(np.abs(error_zeros - error_mean) * 100, 1)}%\")"
   ]
  },
  {
   "cell_type": "markdown",
   "id": "6fe374c0-e4c6-4965-a843-eb14fd95aa2b",
   "metadata": {},
   "source": [
    "### Question 3. Filling nulls with zeros or the mean? \n",
    "Filling the null values with the mean value gave an error rate roughly 4.3% lower than filling the null values with 0"
   ]
  },
  {
   "cell_type": "code",
   "execution_count": 25,
   "id": "dc6cfa39-b630-4ad1-b4b2-cb4f8fd21882",
   "metadata": {},
   "outputs": [],
   "source": [
    "# Taken from lecture notes\n",
    "def train_linear_regression_reg(X, y, r=0.0):\n",
    "    ones = np.ones(X.shape[0])\n",
    "    X = np.column_stack([ones, X])\n",
    "\n",
    "    XTX = X.T.dot(X)\n",
    "    reg = r * np.eye(XTX.shape[0])\n",
    "    XTX = XTX + reg\n",
    "\n",
    "    XTX_inv = np.linalg.inv(XTX)\n",
    "    w = XTX_inv.dot(X.T).dot(y)\n",
    "    \n",
    "    return w[0], w[1:]"
   ]
  },
  {
   "cell_type": "code",
   "execution_count": 32,
   "id": "483321da-e9a8-4306-b40e-5c1c80a6c6b7",
   "metadata": {},
   "outputs": [
    {
     "data": {
      "text/plain": [
       "(0.01, np.float64(0.49659290515819066))"
      ]
     },
     "execution_count": 32,
     "metadata": {},
     "output_type": "execute_result"
    }
   ],
   "source": [
    "r_values = [0, 0.01, 0.1, 1, 5, 10, 100]\n",
    "errors = []\n",
    "min_error = 1000\n",
    "min_r = None\n",
    "\n",
    "for r in r_values:\n",
    "    w0, w = train_linear_regression_reg(X_train_zeros, y_train, r)\n",
    "\n",
    "    y_pred = w0 + df_val.dot(w)\n",
    "    error = rmse(y_val, y_pred)\n",
    "    errors.append(error)\n",
    "\n",
    "    if error < min_error:\n",
    "        min_error = error\n",
    "        min_r = r\n",
    "min_r, min_error"
   ]
  },
  {
   "cell_type": "markdown",
   "id": "9561bbf2-741f-459c-b291-2b7c64b45e32",
   "metadata": {},
   "source": [
    "### Question 4. Best RMSE from r values\n",
    "We get the lowest RMSE from r=0.01"
   ]
  },
  {
   "cell_type": "code",
   "execution_count": 48,
   "id": "645f7e97-2fce-4fa2-a7b1-0b71dbfdecb6",
   "metadata": {},
   "outputs": [
    {
     "data": {
      "image/png": "[encoded data removed]",
      "text/plain": [
       "<Figure size 600x400 with 1 Axes>"
      ]
     },
     "metadata": {},
     "output_type": "display_data"
    }
   ],
   "source": [
    "\n",
    "\n",
    "plt.figure(figsize=(6, 4))\n",
    "plt.ylabel('RMSE')\n",
    "plt.xlabel('R')\n",
    "sns.lineplot(x=r_values, y=errors)\n",
    "\n",
    "plt.show()\n"
   ]
  },
  {
   "cell_type": "code",
   "execution_count": 47,
   "id": "a3880771-796f-452a-a9c3-f54dbb9516a1",
   "metadata": {},
   "outputs": [
    {
     "data": {
      "text/plain": [
       "(0.013, np.float64(0.4965791100349331))"
      ]
     },
     "execution_count": 47,
     "metadata": {},
     "output_type": "execute_result"
    }
   ],
   "source": [
    "r_values = [i/1000 for i in range(0, 100,1)]\n",
    "errors = []\n",
    "min_error = 1000\n",
    "min_r = None\n",
    "for r in r_values:\n",
    "    w0, w = train_linear_regression_reg(X_train_zeros, y_train, r)\n",
    "\n",
    "    y_pred = w0 + df_val.dot(w)\n",
    "\n",
    "    error = rmse(y_val, y_pred)\n",
    "    errors.append(error)\n",
    "\n",
    "    if error < min_error:\n",
    "        min_error = error\n",
    "        min_r = r\n",
    "min_r, min_error"
   ]
  },
  {
   "cell_type": "code",
   "execution_count": 49,
   "id": "9c9be23f-85c1-42ce-b962-d34b70a2f5ff",
   "metadata": {},
   "outputs": [
    {
     "data": {
      "image/png": "[encoded data removed]",
      "text/plain": [
       "<Figure size 600x400 with 1 Axes>"
      ]
     },
     "metadata": {},
     "output_type": "display_data"
    }
   ],
   "source": [
    "plt.figure(figsize=(6, 4))\n",
    "plt.ylabel('RMSE')\n",
    "plt.xlabel('R')\n",
    "sns.lineplot(x=r_values, y=errors)\n",
    "plt.show()"
   ]
  },
  {
   "cell_type": "markdown",
   "id": "77a4f7ff-c5f7-4c1b-9ef1-df5d411c70d0",
   "metadata": {},
   "source": [
    "We can inspect the values even closer and find a better r value of 0.013"
   ]
  },
  {
   "cell_type": "code",
   "execution_count": 114,
   "id": "92a1df4d-2452-48bd-ace4-d8e79d713888",
   "metadata": {},
   "outputs": [],
   "source": [
    "seeds = [0, 1, 2, 3, 4, 5, 6, 7, 8, 9]\n",
    "\n",
    "results = []\n",
    "\n",
    "for s in seeds:\n",
    "    n = df.shape[0]\n",
    "    n_val = (int)(n * 0.2)\n",
    "    n_test = (int)(n * 0.2)\n",
    "    n_train = n - n_val - n_test\n",
    "    \n",
    "    n_train, n_val, n_test, n_train + n_val + n_test\n",
    "\n",
    "    indexes = np.arange(n)\n",
    "    np.random.seed(s)   # seed needs to be in the same block as the shuffle, otherwise the seed gets lost after the first shuffle\n",
    "    np.random.shuffle(indexes)\n",
    "    indexes\n",
    "\n",
    "    df_train = df.iloc[indexes[:n_train]]\n",
    "    df_val = df.iloc[indexes[n_train : n_train + n_val]]\n",
    "    df_test = df.iloc[indexes[n_train + n_val : ]]\n",
    "    \n",
    "    y_train = df_train.fuel_efficiency_mpg\n",
    "    y_val = df_val.fuel_efficiency_mpg\n",
    "    y_test = df_test.fuel_efficiency_mpg\n",
    "    \n",
    "    del df_train[\"fuel_efficiency_mpg\"]\n",
    "    del df_val[\"fuel_efficiency_mpg\"]\n",
    "    del df_test[\"fuel_efficiency_mpg\"]\n",
    "\n",
    "    fill_values = [0]\n",
    "    r_values = [0]\n",
    "    \n",
    "    for f in fill_values:\n",
    "\n",
    "        for r in r_values:\n",
    "            X_train = df_train.copy().fillna(f)\n",
    "            w0, w = train_linear_regression_reg(X_train, y_train, r)\n",
    "    \n",
    "            y_pred = w0 + df_val.dot(w)\n",
    "\n",
    "            error = rmse(y_val, y_pred)\n",
    "\n",
    "            results.append(\n",
    "                {\n",
    "                    \"seed\" : s,\n",
    "                    \"fill_value\" : f,\n",
    "                    \"r_value\" : r,\n",
    "                    \"error\" : error\n",
    "                }\n",
    "            )"
   ]
  },
  {
   "cell_type": "code",
   "execution_count": 115,
   "id": "e640e34f-99c9-403e-9aa5-ab200e2d8118",
   "metadata": {},
   "outputs": [
    {
     "data": {
      "text/html": [
       "<div>\n",
       "<style scoped>\n",
       "    .dataframe tbody tr th:only-of-type {\n",
       "        vertical-align: middle;\n",
       "    }\n",
       "\n",
       "    .dataframe tbody tr th {\n",
       "        vertical-align: top;\n",
       "    }\n",
       "\n",
       "    .dataframe thead th {\n",
       "        text-align: right;\n",
       "    }\n",
       "</style>\n",
       "<table border=\"1\" class=\"dataframe\">\n",
       "  <thead>\n",
       "    <tr style=\"text-align: right;\">\n",
       "      <th></th>\n",
       "      <th>seed</th>\n",
       "      <th>fill_value</th>\n",
       "      <th>r_value</th>\n",
       "      <th>error</th>\n",
       "    </tr>\n",
       "  </thead>\n",
       "  <tbody>\n",
       "    <tr>\n",
       "      <th>8</th>\n",
       "      <td>8</td>\n",
       "      <td>0</td>\n",
       "      <td>0</td>\n",
       "      <td>0.484337</td>\n",
       "    </tr>\n",
       "    <tr>\n",
       "      <th>3</th>\n",
       "      <td>3</td>\n",
       "      <td>0</td>\n",
       "      <td>0</td>\n",
       "      <td>0.489915</td>\n",
       "    </tr>\n",
       "    <tr>\n",
       "      <th>7</th>\n",
       "      <td>7</td>\n",
       "      <td>0</td>\n",
       "      <td>0</td>\n",
       "      <td>0.491651</td>\n",
       "    </tr>\n",
       "    <tr>\n",
       "      <th>4</th>\n",
       "      <td>4</td>\n",
       "      <td>0</td>\n",
       "      <td>0</td>\n",
       "      <td>0.491670</td>\n",
       "    </tr>\n",
       "    <tr>\n",
       "      <th>9</th>\n",
       "      <td>9</td>\n",
       "      <td>0</td>\n",
       "      <td>0</td>\n",
       "      <td>0.496411</td>\n",
       "    </tr>\n",
       "    <tr>\n",
       "      <th>5</th>\n",
       "      <td>5</td>\n",
       "      <td>0</td>\n",
       "      <td>0</td>\n",
       "      <td>0.497849</td>\n",
       "    </tr>\n",
       "    <tr>\n",
       "      <th>2</th>\n",
       "      <td>2</td>\n",
       "      <td>0</td>\n",
       "      <td>0</td>\n",
       "      <td>0.498352</td>\n",
       "    </tr>\n",
       "    <tr>\n",
       "      <th>0</th>\n",
       "      <td>0</td>\n",
       "      <td>0</td>\n",
       "      <td>0</td>\n",
       "      <td>0.498889</td>\n",
       "    </tr>\n",
       "    <tr>\n",
       "      <th>1</th>\n",
       "      <td>1</td>\n",
       "      <td>0</td>\n",
       "      <td>0</td>\n",
       "      <td>0.501115</td>\n",
       "    </tr>\n",
       "    <tr>\n",
       "      <th>6</th>\n",
       "      <td>6</td>\n",
       "      <td>0</td>\n",
       "      <td>0</td>\n",
       "      <td>0.506507</td>\n",
       "    </tr>\n",
       "  </tbody>\n",
       "</table>\n",
       "</div>"
      ],
      "text/plain": [
       "   seed  fill_value  r_value     error\n",
       "8     8           0        0  0.484337\n",
       "3     3           0        0  0.489915\n",
       "7     7           0        0  0.491651\n",
       "4     4           0        0  0.491670\n",
       "9     9           0        0  0.496411\n",
       "5     5           0        0  0.497849\n",
       "2     2           0        0  0.498352\n",
       "0     0           0        0  0.498889\n",
       "1     1           0        0  0.501115\n",
       "6     6           0        0  0.506507"
      ]
     },
     "execution_count": 115,
     "metadata": {},
     "output_type": "execute_result"
    }
   ],
   "source": [
    "df_results = pd.DataFrame(results)\n",
    "df_results = df_results.sort_values(by=\"error\")\n",
    "df_results"
   ]
  },
  {
   "cell_type": "code",
   "execution_count": 116,
   "id": "8a89638b-dbf2-4396-832d-d315a127ea04",
   "metadata": {},
   "outputs": [
    {
     "data": {
      "text/plain": [
       "np.float64(0.00603)"
      ]
     },
     "execution_count": 116,
     "metadata": {},
     "output_type": "execute_result"
    }
   ],
   "source": [
    "std = np.std(df_results[\"error\"])\n",
    "round(std, 5)"
   ]
  },
  {
   "cell_type": "markdown",
   "id": "0eb8683b-4aab-4302-b8fe-d3809b9a03d5",
   "metadata": {},
   "source": [
    "### Question 5. Result of changing seed\n",
    "The standard deviation in error when changing the seed is roughly 0.006. This means that using a different seed has a fairly small effect on changing the outcome"
   ]
  },
  {
   "cell_type": "code",
   "execution_count": 104,
   "id": "1f6917ca-4cc3-4862-8504-c0ee1e88d940",
   "metadata": {},
   "outputs": [],
   "source": [
    "seeds = [0, 1, 2, 3, 4, 5, 6, 7, 8, 9]\n",
    "\n",
    "results = []\n",
    "\n",
    "for s in seeds:\n",
    "    n = df.shape[0]\n",
    "    split_values = [0.05, 0.1, 0.2, 0.3]\n",
    "    for split in split_values:\n",
    "        n_val = (int)(n * split)\n",
    "        n_test = (int)(n * split)\n",
    "        n_train = n - n_val - n_test\n",
    "        \n",
    "        n_train, n_val, n_test, n_train + n_val + n_test\n",
    "    \n",
    "        indexes = np.arange(n)\n",
    "        np.random.seed(s)   # seed needs to be in the same block as the shuffle, otherwise the seed gets lost after the first shuffle\n",
    "        np.random.shuffle(indexes)\n",
    "        indexes\n",
    "    \n",
    "        df_train = df.iloc[indexes[:n_train]]\n",
    "        df_val = df.iloc[indexes[n_train : n_train + n_val]]\n",
    "        df_test = df.iloc[indexes[n_train + n_val : ]]\n",
    "        \n",
    "        y_train = df_train.fuel_efficiency_mpg\n",
    "        y_val = df_val.fuel_efficiency_mpg\n",
    "        y_test = df_test.fuel_efficiency_mpg\n",
    "        \n",
    "        del df_train[\"fuel_efficiency_mpg\"]\n",
    "        del df_val[\"fuel_efficiency_mpg\"]\n",
    "        del df_test[\"fuel_efficiency_mpg\"]\n",
    "    \n",
    "        fill_values = [0, df_train[\"horsepower\"].mean(), df_train[\"horsepower\"].median()]\n",
    "        r_values = [0, 0.01, 0.1, 1, 5, 10, 100]\n",
    "        \n",
    "        for f in fill_values:\n",
    "    \n",
    "            for r in r_values:\n",
    "                X_train = df_train.copy().fillna(f)\n",
    "                w0, w = train_linear_regression_reg(X_train, y_train, r)\n",
    "        \n",
    "                y_pred = w0 + df_val.fillna(f).dot(w)\n",
    "    \n",
    "                error = rmse(y_val, y_pred)\n",
    "    \n",
    "                results.append(\n",
    "                    {\n",
    "                        \"seed\" : s,\n",
    "                        \"fill_value\" : f,\n",
    "                        \"r_value\" : r,\n",
    "                        \"split\"   : split,\n",
    "                        \"error\" : error\n",
    "                    }\n",
    "                )"
   ]
  },
  {
   "cell_type": "code",
   "execution_count": 109,
   "id": "0f5b850b-8a21-4d5e-8c29-516b271785f5",
   "metadata": {},
   "outputs": [
    {
     "data": {
      "text/html": [
       "<div>\n",
       "<style scoped>\n",
       "    .dataframe tbody tr th:only-of-type {\n",
       "        vertical-align: middle;\n",
       "    }\n",
       "\n",
       "    .dataframe tbody tr th {\n",
       "        vertical-align: top;\n",
       "    }\n",
       "\n",
       "    .dataframe thead th {\n",
       "        text-align: right;\n",
       "    }\n",
       "</style>\n",
       "<table border=\"1\" class=\"dataframe\">\n",
       "  <thead>\n",
       "    <tr style=\"text-align: right;\">\n",
       "      <th></th>\n",
       "      <th>seed</th>\n",
       "      <th>fill_value</th>\n",
       "      <th>r_value</th>\n",
       "      <th>split</th>\n",
       "      <th>error</th>\n",
       "    </tr>\n",
       "  </thead>\n",
       "  <tbody>\n",
       "    <tr>\n",
       "      <th>count</th>\n",
       "      <td>840.000000</td>\n",
       "      <td>840.000000</td>\n",
       "      <td>840.000000</td>\n",
       "      <td>840.000000</td>\n",
       "      <td>840.000000</td>\n",
       "    </tr>\n",
       "    <tr>\n",
       "      <th>mean</th>\n",
       "      <td>4.500000</td>\n",
       "      <td>99.704795</td>\n",
       "      <td>16.587143</td>\n",
       "      <td>0.162500</td>\n",
       "      <td>0.486184</td>\n",
       "    </tr>\n",
       "    <tr>\n",
       "      <th>std</th>\n",
       "      <td>2.873993</td>\n",
       "      <td>70.544741</td>\n",
       "      <td>34.246690</td>\n",
       "      <td>0.096072</td>\n",
       "      <td>0.028936</td>\n",
       "    </tr>\n",
       "    <tr>\n",
       "      <th>min</th>\n",
       "      <td>0.000000</td>\n",
       "      <td>0.000000</td>\n",
       "      <td>0.000000</td>\n",
       "      <td>0.050000</td>\n",
       "      <td>0.428911</td>\n",
       "    </tr>\n",
       "    <tr>\n",
       "      <th>25%</th>\n",
       "      <td>2.000000</td>\n",
       "      <td>0.000000</td>\n",
       "      <td>0.010000</td>\n",
       "      <td>0.087500</td>\n",
       "      <td>0.465674</td>\n",
       "    </tr>\n",
       "    <tr>\n",
       "      <th>50%</th>\n",
       "      <td>4.500000</td>\n",
       "      <td>149.000000</td>\n",
       "      <td>1.000000</td>\n",
       "      <td>0.150000</td>\n",
       "      <td>0.475762</td>\n",
       "    </tr>\n",
       "    <tr>\n",
       "      <th>75%</th>\n",
       "      <td>7.000000</td>\n",
       "      <td>149.787124</td>\n",
       "      <td>10.000000</td>\n",
       "      <td>0.225000</td>\n",
       "      <td>0.516009</td>\n",
       "    </tr>\n",
       "    <tr>\n",
       "      <th>max</th>\n",
       "      <td>9.000000</td>\n",
       "      <td>150.190304</td>\n",
       "      <td>100.000000</td>\n",
       "      <td>0.300000</td>\n",
       "      <td>0.550575</td>\n",
       "    </tr>\n",
       "  </tbody>\n",
       "</table>\n",
       "</div>"
      ],
      "text/plain": [
       "             seed  fill_value     r_value       split       error\n",
       "count  840.000000  840.000000  840.000000  840.000000  840.000000\n",
       "mean     4.500000   99.704795   16.587143    0.162500    0.486184\n",
       "std      2.873993   70.544741   34.246690    0.096072    0.028936\n",
       "min      0.000000    0.000000    0.000000    0.050000    0.428911\n",
       "25%      2.000000    0.000000    0.010000    0.087500    0.465674\n",
       "50%      4.500000  149.000000    1.000000    0.150000    0.475762\n",
       "75%      7.000000  149.787124   10.000000    0.225000    0.516009\n",
       "max      9.000000  150.190304  100.000000    0.300000    0.550575"
      ]
     },
     "execution_count": 109,
     "metadata": {},
     "output_type": "execute_result"
    }
   ],
   "source": [
    "df_results = pd.DataFrame(results)\n",
    "df_results = df_results.sort_values(by=\"error\")\n",
    "df_results.describe()"
   ]
  },
  {
   "cell_type": "markdown",
   "id": "70779158-f063-448f-b774-6f3b44870086",
   "metadata": {},
   "source": [
    "We get the lowest RMSE when we use seed=9, mean fill value, r-0.01, and Train/Val/Split=90%/5%/5%"
   ]
  },
  {
   "cell_type": "code",
   "execution_count": 103,
   "id": "b5522c55-74f0-4577-beaa-275fc754f3f9",
   "metadata": {},
   "outputs": [
    {
     "data": {
      "text/plain": [
       "np.float64(0.516)"
      ]
     },
     "execution_count": 103,
     "metadata": {},
     "output_type": "execute_result"
    }
   ],
   "source": [
    "seed = 9\n",
    "\n",
    "n_val = (int)(n * 0.2)\n",
    "n_test = (int)(n * 0.2)\n",
    "n_train = n - n_val - n_test\n",
    "\n",
    "indexes = np.arange(n)\n",
    "np.random.seed(seed)   # seed needs to be in the same block as the shuffle, otherwise the seed gets lost after the first shuffle\n",
    "np.random.shuffle(indexes)\n",
    "\n",
    "df_train = df.iloc[indexes[:n_train]]\n",
    "df_val = df.iloc[indexes[n_train : n_train + n_val]]\n",
    "df_test = df.iloc[indexes[n_train + n_val : ]]\n",
    "\n",
    "y_train = df_train.fuel_efficiency_mpg\n",
    "y_val = df_val.fuel_efficiency_mpg\n",
    "y_test = df_test.fuel_efficiency_mpg\n",
    "\n",
    "del df_train[\"fuel_efficiency_mpg\"]\n",
    "del df_val[\"fuel_efficiency_mpg\"]\n",
    "del df_test[\"fuel_efficiency_mpg\"]\n",
    "\n",
    "X_train = pd.concat([df_train, df_val]).fillna(0)\n",
    "y_train = pd.concat([y_train, y_val])\n",
    "\n",
    "r = 0.001\n",
    "w0, w = train_linear_regression_reg(X_train, y_train, r)\n",
    "\n",
    "y_pred = w0 + df_test.fillna(0).dot(w)\n",
    "\n",
    "error = rmse(y_test, y_pred)\n",
    "round(error, 3)"
   ]
  },
  {
   "cell_type": "markdown",
   "id": "6ab581c7-4023-4cc6-b4ce-fbb41e681989",
   "metadata": {},
   "source": [
    "### Question 6. \n",
    "We find a RMSE of 0.515"
   ]
  },
  {
   "cell_type": "code",
   "execution_count": null,
   "id": "cee542d2-e8a0-431d-9886-8ba35ed399d7",
   "metadata": {},
   "outputs": [],
   "source": []
  }
 ],
 "metadata": {
  "kernelspec": {
   "display_name": "Python 3 (ipykernel)",
   "language": "python",
   "name": "python3"
  },
  "language_info": {
   "codemirror_mode": {
    "name": "ipython",
    "version": 3
   },
   "file_extension": ".py",
   "mimetype": "text/x-python",
   "name": "python",
   "nbconvert_exporter": "python",
   "pygments_lexer": "ipython3",
   "version": "3.12.1"
  }
 },
 "nbformat": 4,
 "nbformat_minor": 5
}
