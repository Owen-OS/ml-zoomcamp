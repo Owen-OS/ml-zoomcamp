{
 "cells": [
  {
   "cell_type": "markdown",
   "id": "1f134644-6934-4f51-82cf-550386e69239",
   "metadata": {},
   "source": [
    "# Machine Learning for Regression"
   ]
  },
  {
   "cell_type": "markdown",
   "id": "019ceb7c-2f41-4e48-b1eb-360fda216c36",
   "metadata": {},
   "source": [
    "## 2.2 - Data Preparation"
   ]
  },
  {
   "cell_type": "code",
   "execution_count": 1,
   "id": "467d8840-b6f8-4ef0-a1e1-3fcdc4495e06",
   "metadata": {},
   "outputs": [],
   "source": [
    "# Imports\n",
    "import numpy as np\n",
    "import pandas as pd"
   ]
  },
  {
   "cell_type": "code",
   "execution_count": 2,
   "id": "78dcaf77-cc78-421a-bdae-2ca969928ffd",
   "metadata": {},
   "outputs": [],
   "source": [
    "# Fetch the data\n",
    "csv_data_location = \"https://raw.githubusercontent.com/alexeygrigorev/mlbookcamp-code/master/chapter-02-car-price/data.csv\""
   ]
  },
  {
   "cell_type": "code",
   "execution_count": 3,
   "id": "0dca995e-7893-46b1-a943-f65a6620c1f3",
   "metadata": {},
   "outputs": [],
   "source": [
    "df = pd.read_csv(csv_data_location)"
   ]
  },
  {
   "cell_type": "code",
   "execution_count": 4,
   "id": "83d15737-8bc4-4370-be21-9869dfda0cbd",
   "metadata": {},
   "outputs": [
    {
     "data": {
      "text/html": [
       "<div>\n",
       "<style scoped>\n",
       "    .dataframe tbody tr th:only-of-type {\n",
       "        vertical-align: middle;\n",
       "    }\n",
       "\n",
       "    .dataframe tbody tr th {\n",
       "        vertical-align: top;\n",
       "    }\n",
       "\n",
       "    .dataframe thead th {\n",
       "        text-align: right;\n",
       "    }\n",
       "</style>\n",
       "<table border=\"1\" class=\"dataframe\">\n",
       "  <thead>\n",
       "    <tr style=\"text-align: right;\">\n",
       "      <th></th>\n",
       "      <th>Make</th>\n",
       "      <th>Model</th>\n",
       "      <th>Year</th>\n",
       "      <th>Engine Fuel Type</th>\n",
       "      <th>Engine HP</th>\n",
       "      <th>Engine Cylinders</th>\n",
       "      <th>Transmission Type</th>\n",
       "      <th>Driven_Wheels</th>\n",
       "      <th>Number of Doors</th>\n",
       "      <th>Market Category</th>\n",
       "      <th>Vehicle Size</th>\n",
       "      <th>Vehicle Style</th>\n",
       "      <th>highway MPG</th>\n",
       "      <th>city mpg</th>\n",
       "      <th>Popularity</th>\n",
       "      <th>MSRP</th>\n",
       "    </tr>\n",
       "  </thead>\n",
       "  <tbody>\n",
       "    <tr>\n",
       "      <th>0</th>\n",
       "      <td>BMW</td>\n",
       "      <td>1 Series M</td>\n",
       "      <td>2011</td>\n",
       "      <td>premium unleaded (required)</td>\n",
       "      <td>335.0</td>\n",
       "      <td>6.0</td>\n",
       "      <td>MANUAL</td>\n",
       "      <td>rear wheel drive</td>\n",
       "      <td>2.0</td>\n",
       "      <td>Factory Tuner,Luxury,High-Performance</td>\n",
       "      <td>Compact</td>\n",
       "      <td>Coupe</td>\n",
       "      <td>26</td>\n",
       "      <td>19</td>\n",
       "      <td>3916</td>\n",
       "      <td>46135</td>\n",
       "    </tr>\n",
       "    <tr>\n",
       "      <th>1</th>\n",
       "      <td>BMW</td>\n",
       "      <td>1 Series</td>\n",
       "      <td>2011</td>\n",
       "      <td>premium unleaded (required)</td>\n",
       "      <td>300.0</td>\n",
       "      <td>6.0</td>\n",
       "      <td>MANUAL</td>\n",
       "      <td>rear wheel drive</td>\n",
       "      <td>2.0</td>\n",
       "      <td>Luxury,Performance</td>\n",
       "      <td>Compact</td>\n",
       "      <td>Convertible</td>\n",
       "      <td>28</td>\n",
       "      <td>19</td>\n",
       "      <td>3916</td>\n",
       "      <td>40650</td>\n",
       "    </tr>\n",
       "    <tr>\n",
       "      <th>2</th>\n",
       "      <td>BMW</td>\n",
       "      <td>1 Series</td>\n",
       "      <td>2011</td>\n",
       "      <td>premium unleaded (required)</td>\n",
       "      <td>300.0</td>\n",
       "      <td>6.0</td>\n",
       "      <td>MANUAL</td>\n",
       "      <td>rear wheel drive</td>\n",
       "      <td>2.0</td>\n",
       "      <td>Luxury,High-Performance</td>\n",
       "      <td>Compact</td>\n",
       "      <td>Coupe</td>\n",
       "      <td>28</td>\n",
       "      <td>20</td>\n",
       "      <td>3916</td>\n",
       "      <td>36350</td>\n",
       "    </tr>\n",
       "    <tr>\n",
       "      <th>3</th>\n",
       "      <td>BMW</td>\n",
       "      <td>1 Series</td>\n",
       "      <td>2011</td>\n",
       "      <td>premium unleaded (required)</td>\n",
       "      <td>230.0</td>\n",
       "      <td>6.0</td>\n",
       "      <td>MANUAL</td>\n",
       "      <td>rear wheel drive</td>\n",
       "      <td>2.0</td>\n",
       "      <td>Luxury,Performance</td>\n",
       "      <td>Compact</td>\n",
       "      <td>Coupe</td>\n",
       "      <td>28</td>\n",
       "      <td>18</td>\n",
       "      <td>3916</td>\n",
       "      <td>29450</td>\n",
       "    </tr>\n",
       "    <tr>\n",
       "      <th>4</th>\n",
       "      <td>BMW</td>\n",
       "      <td>1 Series</td>\n",
       "      <td>2011</td>\n",
       "      <td>premium unleaded (required)</td>\n",
       "      <td>230.0</td>\n",
       "      <td>6.0</td>\n",
       "      <td>MANUAL</td>\n",
       "      <td>rear wheel drive</td>\n",
       "      <td>2.0</td>\n",
       "      <td>Luxury</td>\n",
       "      <td>Compact</td>\n",
       "      <td>Convertible</td>\n",
       "      <td>28</td>\n",
       "      <td>18</td>\n",
       "      <td>3916</td>\n",
       "      <td>34500</td>\n",
       "    </tr>\n",
       "  </tbody>\n",
       "</table>\n",
       "</div>"
      ],
      "text/plain": [
       "  Make       Model  Year             Engine Fuel Type  Engine HP  \\\n",
       "0  BMW  1 Series M  2011  premium unleaded (required)      335.0   \n",
       "1  BMW    1 Series  2011  premium unleaded (required)      300.0   \n",
       "2  BMW    1 Series  2011  premium unleaded (required)      300.0   \n",
       "3  BMW    1 Series  2011  premium unleaded (required)      230.0   \n",
       "4  BMW    1 Series  2011  premium unleaded (required)      230.0   \n",
       "\n",
       "   Engine Cylinders Transmission Type     Driven_Wheels  Number of Doors  \\\n",
       "0               6.0            MANUAL  rear wheel drive              2.0   \n",
       "1               6.0            MANUAL  rear wheel drive              2.0   \n",
       "2               6.0            MANUAL  rear wheel drive              2.0   \n",
       "3               6.0            MANUAL  rear wheel drive              2.0   \n",
       "4               6.0            MANUAL  rear wheel drive              2.0   \n",
       "\n",
       "                         Market Category Vehicle Size Vehicle Style  \\\n",
       "0  Factory Tuner,Luxury,High-Performance      Compact         Coupe   \n",
       "1                     Luxury,Performance      Compact   Convertible   \n",
       "2                Luxury,High-Performance      Compact         Coupe   \n",
       "3                     Luxury,Performance      Compact         Coupe   \n",
       "4                                 Luxury      Compact   Convertible   \n",
       "\n",
       "   highway MPG  city mpg  Popularity   MSRP  \n",
       "0           26        19        3916  46135  \n",
       "1           28        19        3916  40650  \n",
       "2           28        20        3916  36350  \n",
       "3           28        18        3916  29450  \n",
       "4           28        18        3916  34500  "
      ]
     },
     "execution_count": 4,
     "metadata": {},
     "output_type": "execute_result"
    }
   ],
   "source": [
    "df.head()"
   ]
  },
  {
   "cell_type": "code",
   "execution_count": 5,
   "id": "c690fff7-e8b1-46b0-a45a-09644f4ecb61",
   "metadata": {},
   "outputs": [
    {
     "data": {
      "text/html": [
       "<div>\n",
       "<style scoped>\n",
       "    .dataframe tbody tr th:only-of-type {\n",
       "        vertical-align: middle;\n",
       "    }\n",
       "\n",
       "    .dataframe tbody tr th {\n",
       "        vertical-align: top;\n",
       "    }\n",
       "\n",
       "    .dataframe thead th {\n",
       "        text-align: right;\n",
       "    }\n",
       "</style>\n",
       "<table border=\"1\" class=\"dataframe\">\n",
       "  <thead>\n",
       "    <tr style=\"text-align: right;\">\n",
       "      <th></th>\n",
       "      <th>Year</th>\n",
       "      <th>Engine HP</th>\n",
       "      <th>Engine Cylinders</th>\n",
       "      <th>Number of Doors</th>\n",
       "      <th>highway MPG</th>\n",
       "      <th>city mpg</th>\n",
       "      <th>Popularity</th>\n",
       "      <th>MSRP</th>\n",
       "    </tr>\n",
       "  </thead>\n",
       "  <tbody>\n",
       "    <tr>\n",
       "      <th>count</th>\n",
       "      <td>11914.000000</td>\n",
       "      <td>11845.00000</td>\n",
       "      <td>11884.000000</td>\n",
       "      <td>11908.000000</td>\n",
       "      <td>11914.000000</td>\n",
       "      <td>11914.000000</td>\n",
       "      <td>11914.000000</td>\n",
       "      <td>1.191400e+04</td>\n",
       "    </tr>\n",
       "    <tr>\n",
       "      <th>mean</th>\n",
       "      <td>2010.384338</td>\n",
       "      <td>249.38607</td>\n",
       "      <td>5.628829</td>\n",
       "      <td>3.436093</td>\n",
       "      <td>26.637485</td>\n",
       "      <td>19.733255</td>\n",
       "      <td>1554.911197</td>\n",
       "      <td>4.059474e+04</td>\n",
       "    </tr>\n",
       "    <tr>\n",
       "      <th>std</th>\n",
       "      <td>7.579740</td>\n",
       "      <td>109.19187</td>\n",
       "      <td>1.780559</td>\n",
       "      <td>0.881315</td>\n",
       "      <td>8.863001</td>\n",
       "      <td>8.987798</td>\n",
       "      <td>1441.855347</td>\n",
       "      <td>6.010910e+04</td>\n",
       "    </tr>\n",
       "    <tr>\n",
       "      <th>min</th>\n",
       "      <td>1990.000000</td>\n",
       "      <td>55.00000</td>\n",
       "      <td>0.000000</td>\n",
       "      <td>2.000000</td>\n",
       "      <td>12.000000</td>\n",
       "      <td>7.000000</td>\n",
       "      <td>2.000000</td>\n",
       "      <td>2.000000e+03</td>\n",
       "    </tr>\n",
       "    <tr>\n",
       "      <th>25%</th>\n",
       "      <td>2007.000000</td>\n",
       "      <td>170.00000</td>\n",
       "      <td>4.000000</td>\n",
       "      <td>2.000000</td>\n",
       "      <td>22.000000</td>\n",
       "      <td>16.000000</td>\n",
       "      <td>549.000000</td>\n",
       "      <td>2.100000e+04</td>\n",
       "    </tr>\n",
       "    <tr>\n",
       "      <th>50%</th>\n",
       "      <td>2015.000000</td>\n",
       "      <td>227.00000</td>\n",
       "      <td>6.000000</td>\n",
       "      <td>4.000000</td>\n",
       "      <td>26.000000</td>\n",
       "      <td>18.000000</td>\n",
       "      <td>1385.000000</td>\n",
       "      <td>2.999500e+04</td>\n",
       "    </tr>\n",
       "    <tr>\n",
       "      <th>75%</th>\n",
       "      <td>2016.000000</td>\n",
       "      <td>300.00000</td>\n",
       "      <td>6.000000</td>\n",
       "      <td>4.000000</td>\n",
       "      <td>30.000000</td>\n",
       "      <td>22.000000</td>\n",
       "      <td>2009.000000</td>\n",
       "      <td>4.223125e+04</td>\n",
       "    </tr>\n",
       "    <tr>\n",
       "      <th>max</th>\n",
       "      <td>2017.000000</td>\n",
       "      <td>1001.00000</td>\n",
       "      <td>16.000000</td>\n",
       "      <td>4.000000</td>\n",
       "      <td>354.000000</td>\n",
       "      <td>137.000000</td>\n",
       "      <td>5657.000000</td>\n",
       "      <td>2.065902e+06</td>\n",
       "    </tr>\n",
       "  </tbody>\n",
       "</table>\n",
       "</div>"
      ],
      "text/plain": [
       "               Year    Engine HP  Engine Cylinders  Number of Doors  \\\n",
       "count  11914.000000  11845.00000      11884.000000     11908.000000   \n",
       "mean    2010.384338    249.38607          5.628829         3.436093   \n",
       "std        7.579740    109.19187          1.780559         0.881315   \n",
       "min     1990.000000     55.00000          0.000000         2.000000   \n",
       "25%     2007.000000    170.00000          4.000000         2.000000   \n",
       "50%     2015.000000    227.00000          6.000000         4.000000   \n",
       "75%     2016.000000    300.00000          6.000000         4.000000   \n",
       "max     2017.000000   1001.00000         16.000000         4.000000   \n",
       "\n",
       "        highway MPG      city mpg    Popularity          MSRP  \n",
       "count  11914.000000  11914.000000  11914.000000  1.191400e+04  \n",
       "mean      26.637485     19.733255   1554.911197  4.059474e+04  \n",
       "std        8.863001      8.987798   1441.855347  6.010910e+04  \n",
       "min       12.000000      7.000000      2.000000  2.000000e+03  \n",
       "25%       22.000000     16.000000    549.000000  2.100000e+04  \n",
       "50%       26.000000     18.000000   1385.000000  2.999500e+04  \n",
       "75%       30.000000     22.000000   2009.000000  4.223125e+04  \n",
       "max      354.000000    137.000000   5657.000000  2.065902e+06  "
      ]
     },
     "execution_count": 5,
     "metadata": {},
     "output_type": "execute_result"
    }
   ],
   "source": [
    "df.describe()"
   ]
  },
  {
   "cell_type": "code",
   "execution_count": 6,
   "id": "425e94d9-22d9-4b09-803a-390256550674",
   "metadata": {},
   "outputs": [
    {
     "data": {
      "text/plain": [
       "Index(['Make', 'Model', 'Year', 'Engine Fuel Type', 'Engine HP',\n",
       "       'Engine Cylinders', 'Transmission Type', 'Driven_Wheels',\n",
       "       'Number of Doors', 'Market Category', 'Vehicle Size', 'Vehicle Style',\n",
       "       'highway MPG', 'city mpg', 'Popularity', 'MSRP'],\n",
       "      dtype='object')"
      ]
     },
     "execution_count": 6,
     "metadata": {},
     "output_type": "execute_result"
    }
   ],
   "source": [
    "# Make data consistent...\n",
    "# Remove spaces, make lower case\n",
    "\n",
    "df.columns"
   ]
  },
  {
   "cell_type": "code",
   "execution_count": 7,
   "id": "e695ae1f-3746-4a63-b28c-90b93aeb5e7b",
   "metadata": {},
   "outputs": [
    {
     "data": {
      "text/plain": [
       "Index(['make', 'model', 'year', 'engine_fuel_type', 'engine_hp',\n",
       "       'engine_cylinders', 'transmission_type', 'driven_wheels',\n",
       "       'number_of_doors', 'market_category', 'vehicle_size', 'vehicle_style',\n",
       "       'highway_mpg', 'city_mpg', 'popularity', 'msrp'],\n",
       "      dtype='object')"
      ]
     },
     "execution_count": 7,
     "metadata": {},
     "output_type": "execute_result"
    }
   ],
   "source": [
    "df.columns.str.lower().str.replace(\" \", \"_\")"
   ]
  },
  {
   "cell_type": "code",
   "execution_count": 8,
   "id": "577a440a-cb81-4a33-8280-9561ffa0d235",
   "metadata": {},
   "outputs": [],
   "source": [
    "df.columns = df.columns.str.lower().str.replace(\" \", \"_\")"
   ]
  },
  {
   "cell_type": "code",
   "execution_count": 9,
   "id": "56c889ad-79d0-41e3-ba64-a14b8eb87f13",
   "metadata": {},
   "outputs": [
    {
     "data": {
      "text/html": [
       "<div>\n",
       "<style scoped>\n",
       "    .dataframe tbody tr th:only-of-type {\n",
       "        vertical-align: middle;\n",
       "    }\n",
       "\n",
       "    .dataframe tbody tr th {\n",
       "        vertical-align: top;\n",
       "    }\n",
       "\n",
       "    .dataframe thead th {\n",
       "        text-align: right;\n",
       "    }\n",
       "</style>\n",
       "<table border=\"1\" class=\"dataframe\">\n",
       "  <thead>\n",
       "    <tr style=\"text-align: right;\">\n",
       "      <th></th>\n",
       "      <th>make</th>\n",
       "      <th>model</th>\n",
       "      <th>year</th>\n",
       "      <th>engine_fuel_type</th>\n",
       "      <th>engine_hp</th>\n",
       "      <th>engine_cylinders</th>\n",
       "      <th>transmission_type</th>\n",
       "      <th>driven_wheels</th>\n",
       "      <th>number_of_doors</th>\n",
       "      <th>market_category</th>\n",
       "      <th>vehicle_size</th>\n",
       "      <th>vehicle_style</th>\n",
       "      <th>highway_mpg</th>\n",
       "      <th>city_mpg</th>\n",
       "      <th>popularity</th>\n",
       "      <th>msrp</th>\n",
       "    </tr>\n",
       "  </thead>\n",
       "  <tbody>\n",
       "    <tr>\n",
       "      <th>0</th>\n",
       "      <td>BMW</td>\n",
       "      <td>1 Series M</td>\n",
       "      <td>2011</td>\n",
       "      <td>premium unleaded (required)</td>\n",
       "      <td>335.0</td>\n",
       "      <td>6.0</td>\n",
       "      <td>MANUAL</td>\n",
       "      <td>rear wheel drive</td>\n",
       "      <td>2.0</td>\n",
       "      <td>Factory Tuner,Luxury,High-Performance</td>\n",
       "      <td>Compact</td>\n",
       "      <td>Coupe</td>\n",
       "      <td>26</td>\n",
       "      <td>19</td>\n",
       "      <td>3916</td>\n",
       "      <td>46135</td>\n",
       "    </tr>\n",
       "    <tr>\n",
       "      <th>1</th>\n",
       "      <td>BMW</td>\n",
       "      <td>1 Series</td>\n",
       "      <td>2011</td>\n",
       "      <td>premium unleaded (required)</td>\n",
       "      <td>300.0</td>\n",
       "      <td>6.0</td>\n",
       "      <td>MANUAL</td>\n",
       "      <td>rear wheel drive</td>\n",
       "      <td>2.0</td>\n",
       "      <td>Luxury,Performance</td>\n",
       "      <td>Compact</td>\n",
       "      <td>Convertible</td>\n",
       "      <td>28</td>\n",
       "      <td>19</td>\n",
       "      <td>3916</td>\n",
       "      <td>40650</td>\n",
       "    </tr>\n",
       "    <tr>\n",
       "      <th>2</th>\n",
       "      <td>BMW</td>\n",
       "      <td>1 Series</td>\n",
       "      <td>2011</td>\n",
       "      <td>premium unleaded (required)</td>\n",
       "      <td>300.0</td>\n",
       "      <td>6.0</td>\n",
       "      <td>MANUAL</td>\n",
       "      <td>rear wheel drive</td>\n",
       "      <td>2.0</td>\n",
       "      <td>Luxury,High-Performance</td>\n",
       "      <td>Compact</td>\n",
       "      <td>Coupe</td>\n",
       "      <td>28</td>\n",
       "      <td>20</td>\n",
       "      <td>3916</td>\n",
       "      <td>36350</td>\n",
       "    </tr>\n",
       "    <tr>\n",
       "      <th>3</th>\n",
       "      <td>BMW</td>\n",
       "      <td>1 Series</td>\n",
       "      <td>2011</td>\n",
       "      <td>premium unleaded (required)</td>\n",
       "      <td>230.0</td>\n",
       "      <td>6.0</td>\n",
       "      <td>MANUAL</td>\n",
       "      <td>rear wheel drive</td>\n",
       "      <td>2.0</td>\n",
       "      <td>Luxury,Performance</td>\n",
       "      <td>Compact</td>\n",
       "      <td>Coupe</td>\n",
       "      <td>28</td>\n",
       "      <td>18</td>\n",
       "      <td>3916</td>\n",
       "      <td>29450</td>\n",
       "    </tr>\n",
       "    <tr>\n",
       "      <th>4</th>\n",
       "      <td>BMW</td>\n",
       "      <td>1 Series</td>\n",
       "      <td>2011</td>\n",
       "      <td>premium unleaded (required)</td>\n",
       "      <td>230.0</td>\n",
       "      <td>6.0</td>\n",
       "      <td>MANUAL</td>\n",
       "      <td>rear wheel drive</td>\n",
       "      <td>2.0</td>\n",
       "      <td>Luxury</td>\n",
       "      <td>Compact</td>\n",
       "      <td>Convertible</td>\n",
       "      <td>28</td>\n",
       "      <td>18</td>\n",
       "      <td>3916</td>\n",
       "      <td>34500</td>\n",
       "    </tr>\n",
       "  </tbody>\n",
       "</table>\n",
       "</div>"
      ],
      "text/plain": [
       "  make       model  year             engine_fuel_type  engine_hp  \\\n",
       "0  BMW  1 Series M  2011  premium unleaded (required)      335.0   \n",
       "1  BMW    1 Series  2011  premium unleaded (required)      300.0   \n",
       "2  BMW    1 Series  2011  premium unleaded (required)      300.0   \n",
       "3  BMW    1 Series  2011  premium unleaded (required)      230.0   \n",
       "4  BMW    1 Series  2011  premium unleaded (required)      230.0   \n",
       "\n",
       "   engine_cylinders transmission_type     driven_wheels  number_of_doors  \\\n",
       "0               6.0            MANUAL  rear wheel drive              2.0   \n",
       "1               6.0            MANUAL  rear wheel drive              2.0   \n",
       "2               6.0            MANUAL  rear wheel drive              2.0   \n",
       "3               6.0            MANUAL  rear wheel drive              2.0   \n",
       "4               6.0            MANUAL  rear wheel drive              2.0   \n",
       "\n",
       "                         market_category vehicle_size vehicle_style  \\\n",
       "0  Factory Tuner,Luxury,High-Performance      Compact         Coupe   \n",
       "1                     Luxury,Performance      Compact   Convertible   \n",
       "2                Luxury,High-Performance      Compact         Coupe   \n",
       "3                     Luxury,Performance      Compact         Coupe   \n",
       "4                                 Luxury      Compact   Convertible   \n",
       "\n",
       "   highway_mpg  city_mpg  popularity   msrp  \n",
       "0           26        19        3916  46135  \n",
       "1           28        19        3916  40650  \n",
       "2           28        20        3916  36350  \n",
       "3           28        18        3916  29450  \n",
       "4           28        18        3916  34500  "
      ]
     },
     "execution_count": 9,
     "metadata": {},
     "output_type": "execute_result"
    }
   ],
   "source": [
    "df.head()"
   ]
  },
  {
   "cell_type": "code",
   "execution_count": 10,
   "id": "ec4dcf49-f487-47fc-a849-1d9c6a43c9be",
   "metadata": {},
   "outputs": [],
   "source": [
    "# We want to do this for all the string columns\n",
    "df.make = df.make.str.lower()"
   ]
  },
  {
   "cell_type": "code",
   "execution_count": 11,
   "id": "45482cfa-e969-4b56-9653-8948b61fdac4",
   "metadata": {},
   "outputs": [
    {
     "data": {
      "text/plain": [
       "0            bmw\n",
       "1            bmw\n",
       "2            bmw\n",
       "3            bmw\n",
       "4            bmw\n",
       "          ...   \n",
       "11909      acura\n",
       "11910      acura\n",
       "11911      acura\n",
       "11912      acura\n",
       "11913    lincoln\n",
       "Name: make, Length: 11914, dtype: object"
      ]
     },
     "execution_count": 11,
     "metadata": {},
     "output_type": "execute_result"
    }
   ],
   "source": [
    "df.make"
   ]
  },
  {
   "cell_type": "code",
   "execution_count": 12,
   "id": "a6c2ab11-cf7c-44ee-b8a1-0a15eeeb8913",
   "metadata": {},
   "outputs": [
    {
     "data": {
      "text/plain": [
       "make                  object\n",
       "model                 object\n",
       "year                   int64\n",
       "engine_fuel_type      object\n",
       "engine_hp            float64\n",
       "engine_cylinders     float64\n",
       "transmission_type     object\n",
       "driven_wheels         object\n",
       "number_of_doors      float64\n",
       "market_category       object\n",
       "vehicle_size          object\n",
       "vehicle_style         object\n",
       "highway_mpg            int64\n",
       "city_mpg               int64\n",
       "popularity             int64\n",
       "msrp                   int64\n",
       "dtype: object"
      ]
     },
     "execution_count": 12,
     "metadata": {},
     "output_type": "execute_result"
    }
   ],
   "source": [
    "# We are interested in the object fields for strings\n",
    "df.dtypes"
   ]
  },
  {
   "cell_type": "code",
   "execution_count": 13,
   "id": "b71b0fd4-039e-4762-94c0-7c2877d5771f",
   "metadata": {},
   "outputs": [
    {
     "name": "stdout",
     "output_type": "stream",
     "text": [
      "Option 1: Index(['make', 'model', 'engine_fuel_type', 'transmission_type',\n",
      "       'driven_wheels', 'market_category', 'vehicle_size', 'vehicle_style'],\n",
      "      dtype='object')\n",
      "Option 2: Index(['make', 'model', 'engine_fuel_type', 'transmission_type',\n",
      "       'driven_wheels', 'market_category', 'vehicle_size', 'vehicle_style'],\n",
      "      dtype='object')\n"
     ]
    }
   ],
   "source": [
    "# Get all the string columns\n",
    "string_columns = df.dtypes[df.dtypes == \"object\"].index\n",
    "print(f\"Option 1: {string_columns}\")\n",
    "\n",
    "# Alternative way to select string columns\n",
    "string_columns = df.select_dtypes('object').columns \n",
    "print(f\"Option 2: {string_columns}\")"
   ]
  },
  {
   "cell_type": "code",
   "execution_count": 14,
   "id": "71926856-0b10-4180-a572-409779346e84",
   "metadata": {},
   "outputs": [],
   "source": [
    "for col in string_columns:\n",
    "    df[col] = df[col].str.lower()"
   ]
  },
  {
   "cell_type": "code",
   "execution_count": 15,
   "id": "43c98d0f-0bcf-4429-b9c2-6b601e26f2ab",
   "metadata": {},
   "outputs": [
    {
     "data": {
      "text/html": [
       "<div>\n",
       "<style scoped>\n",
       "    .dataframe tbody tr th:only-of-type {\n",
       "        vertical-align: middle;\n",
       "    }\n",
       "\n",
       "    .dataframe tbody tr th {\n",
       "        vertical-align: top;\n",
       "    }\n",
       "\n",
       "    .dataframe thead th {\n",
       "        text-align: right;\n",
       "    }\n",
       "</style>\n",
       "<table border=\"1\" class=\"dataframe\">\n",
       "  <thead>\n",
       "    <tr style=\"text-align: right;\">\n",
       "      <th></th>\n",
       "      <th>make</th>\n",
       "      <th>model</th>\n",
       "      <th>year</th>\n",
       "      <th>engine_fuel_type</th>\n",
       "      <th>engine_hp</th>\n",
       "      <th>engine_cylinders</th>\n",
       "      <th>transmission_type</th>\n",
       "      <th>driven_wheels</th>\n",
       "      <th>number_of_doors</th>\n",
       "      <th>market_category</th>\n",
       "      <th>vehicle_size</th>\n",
       "      <th>vehicle_style</th>\n",
       "      <th>highway_mpg</th>\n",
       "      <th>city_mpg</th>\n",
       "      <th>popularity</th>\n",
       "      <th>msrp</th>\n",
       "    </tr>\n",
       "  </thead>\n",
       "  <tbody>\n",
       "    <tr>\n",
       "      <th>0</th>\n",
       "      <td>bmw</td>\n",
       "      <td>1 series m</td>\n",
       "      <td>2011</td>\n",
       "      <td>premium unleaded (required)</td>\n",
       "      <td>335.0</td>\n",
       "      <td>6.0</td>\n",
       "      <td>manual</td>\n",
       "      <td>rear wheel drive</td>\n",
       "      <td>2.0</td>\n",
       "      <td>factory tuner,luxury,high-performance</td>\n",
       "      <td>compact</td>\n",
       "      <td>coupe</td>\n",
       "      <td>26</td>\n",
       "      <td>19</td>\n",
       "      <td>3916</td>\n",
       "      <td>46135</td>\n",
       "    </tr>\n",
       "    <tr>\n",
       "      <th>1</th>\n",
       "      <td>bmw</td>\n",
       "      <td>1 series</td>\n",
       "      <td>2011</td>\n",
       "      <td>premium unleaded (required)</td>\n",
       "      <td>300.0</td>\n",
       "      <td>6.0</td>\n",
       "      <td>manual</td>\n",
       "      <td>rear wheel drive</td>\n",
       "      <td>2.0</td>\n",
       "      <td>luxury,performance</td>\n",
       "      <td>compact</td>\n",
       "      <td>convertible</td>\n",
       "      <td>28</td>\n",
       "      <td>19</td>\n",
       "      <td>3916</td>\n",
       "      <td>40650</td>\n",
       "    </tr>\n",
       "    <tr>\n",
       "      <th>2</th>\n",
       "      <td>bmw</td>\n",
       "      <td>1 series</td>\n",
       "      <td>2011</td>\n",
       "      <td>premium unleaded (required)</td>\n",
       "      <td>300.0</td>\n",
       "      <td>6.0</td>\n",
       "      <td>manual</td>\n",
       "      <td>rear wheel drive</td>\n",
       "      <td>2.0</td>\n",
       "      <td>luxury,high-performance</td>\n",
       "      <td>compact</td>\n",
       "      <td>coupe</td>\n",
       "      <td>28</td>\n",
       "      <td>20</td>\n",
       "      <td>3916</td>\n",
       "      <td>36350</td>\n",
       "    </tr>\n",
       "    <tr>\n",
       "      <th>3</th>\n",
       "      <td>bmw</td>\n",
       "      <td>1 series</td>\n",
       "      <td>2011</td>\n",
       "      <td>premium unleaded (required)</td>\n",
       "      <td>230.0</td>\n",
       "      <td>6.0</td>\n",
       "      <td>manual</td>\n",
       "      <td>rear wheel drive</td>\n",
       "      <td>2.0</td>\n",
       "      <td>luxury,performance</td>\n",
       "      <td>compact</td>\n",
       "      <td>coupe</td>\n",
       "      <td>28</td>\n",
       "      <td>18</td>\n",
       "      <td>3916</td>\n",
       "      <td>29450</td>\n",
       "    </tr>\n",
       "    <tr>\n",
       "      <th>4</th>\n",
       "      <td>bmw</td>\n",
       "      <td>1 series</td>\n",
       "      <td>2011</td>\n",
       "      <td>premium unleaded (required)</td>\n",
       "      <td>230.0</td>\n",
       "      <td>6.0</td>\n",
       "      <td>manual</td>\n",
       "      <td>rear wheel drive</td>\n",
       "      <td>2.0</td>\n",
       "      <td>luxury</td>\n",
       "      <td>compact</td>\n",
       "      <td>convertible</td>\n",
       "      <td>28</td>\n",
       "      <td>18</td>\n",
       "      <td>3916</td>\n",
       "      <td>34500</td>\n",
       "    </tr>\n",
       "  </tbody>\n",
       "</table>\n",
       "</div>"
      ],
      "text/plain": [
       "  make       model  year             engine_fuel_type  engine_hp  \\\n",
       "0  bmw  1 series m  2011  premium unleaded (required)      335.0   \n",
       "1  bmw    1 series  2011  premium unleaded (required)      300.0   \n",
       "2  bmw    1 series  2011  premium unleaded (required)      300.0   \n",
       "3  bmw    1 series  2011  premium unleaded (required)      230.0   \n",
       "4  bmw    1 series  2011  premium unleaded (required)      230.0   \n",
       "\n",
       "   engine_cylinders transmission_type     driven_wheels  number_of_doors  \\\n",
       "0               6.0            manual  rear wheel drive              2.0   \n",
       "1               6.0            manual  rear wheel drive              2.0   \n",
       "2               6.0            manual  rear wheel drive              2.0   \n",
       "3               6.0            manual  rear wheel drive              2.0   \n",
       "4               6.0            manual  rear wheel drive              2.0   \n",
       "\n",
       "                         market_category vehicle_size vehicle_style  \\\n",
       "0  factory tuner,luxury,high-performance      compact         coupe   \n",
       "1                     luxury,performance      compact   convertible   \n",
       "2                luxury,high-performance      compact         coupe   \n",
       "3                     luxury,performance      compact         coupe   \n",
       "4                                 luxury      compact   convertible   \n",
       "\n",
       "   highway_mpg  city_mpg  popularity   msrp  \n",
       "0           26        19        3916  46135  \n",
       "1           28        19        3916  40650  \n",
       "2           28        20        3916  36350  \n",
       "3           28        18        3916  29450  \n",
       "4           28        18        3916  34500  "
      ]
     },
     "execution_count": 15,
     "metadata": {},
     "output_type": "execute_result"
    }
   ],
   "source": [
    "df.head()"
   ]
  },
  {
   "cell_type": "markdown",
   "id": "85414b86-4e4d-493b-9f37-fa91e44b1a2b",
   "metadata": {},
   "source": [
    "## 2.3 - Exploratory Data Analysis"
   ]
  },
  {
   "cell_type": "code",
   "execution_count": 16,
   "id": "ee0f03a4-a5a4-41b3-ae8d-936cd551caf8",
   "metadata": {},
   "outputs": [
    {
     "name": "stdout",
     "output_type": "stream",
     "text": [
      "Column Name: make\n",
      "['bmw' 'audi' 'fiat' 'mercedes-benz' 'chrysler']\n",
      "48\n",
      "\n",
      "Column Name: model\n",
      "['1 series m' '1 series' '100' '124 spider' '190-class']\n",
      "914\n",
      "\n",
      "Column Name: year\n",
      "[2011 2012 2013 1992 1993]\n",
      "28\n",
      "\n",
      "Column Name: engine_fuel_type\n",
      "['premium unleaded (required)' 'regular unleaded'\n",
      " 'premium unleaded (recommended)' 'flex-fuel (unleaded/e85)' 'diesel']\n",
      "10\n",
      "\n",
      "Column Name: engine_hp\n",
      "[335. 300. 230. 320. 172.]\n",
      "356\n",
      "\n",
      "Column Name: engine_cylinders\n",
      "[ 6.  4.  5.  8. 12.]\n",
      "9\n",
      "\n",
      "Column Name: transmission_type\n",
      "['manual' 'automatic' 'automated_manual' 'direct_drive' 'unknown']\n",
      "5\n",
      "\n",
      "Column Name: driven_wheels\n",
      "['rear wheel drive' 'front wheel drive' 'all wheel drive'\n",
      " 'four wheel drive']\n",
      "4\n",
      "\n",
      "Column Name: number_of_doors\n",
      "[ 2.  4.  3. nan]\n",
      "3\n",
      "\n",
      "Column Name: market_category\n",
      "['factory tuner,luxury,high-performance' 'luxury,performance'\n",
      " 'luxury,high-performance' 'luxury' 'performance']\n",
      "71\n",
      "\n",
      "Column Name: vehicle_size\n",
      "['compact' 'midsize' 'large']\n",
      "3\n",
      "\n",
      "Column Name: vehicle_style\n",
      "['coupe' 'convertible' 'sedan' 'wagon' '4dr hatchback']\n",
      "16\n",
      "\n",
      "Column Name: highway_mpg\n",
      "[26 28 27 25 24]\n",
      "59\n",
      "\n",
      "Column Name: city_mpg\n",
      "[19 20 18 17 16]\n",
      "69\n",
      "\n",
      "Column Name: popularity\n",
      "[3916 3105  819  617 1013]\n",
      "48\n",
      "\n",
      "Column Name: msrp\n",
      "[46135 40650 36350 29450 34500]\n",
      "6049\n",
      "\n"
     ]
    }
   ],
   "source": [
    "for col in df.columns:\n",
    "    print(f\"Column Name: {col}\")\n",
    "    print(df[col].unique()[:5])\n",
    "    print(df[col].nunique())\n",
    "    print()\n",
    "    "
   ]
  },
  {
   "cell_type": "markdown",
   "id": "1469d682-595d-4d5f-a74a-9c70d243ac4b",
   "metadata": {},
   "source": [
    "### Distribution of Price"
   ]
  },
  {
   "cell_type": "code",
   "execution_count": 17,
   "id": "90446a02-7ee6-49f1-8a79-e96d2e1b7817",
   "metadata": {},
   "outputs": [],
   "source": [
    "import matplotlib.pyplot as plt\n",
    "import seaborn as sns\n",
    "\n",
    "%matplotlib inline"
   ]
  },
  {
   "cell_type": "code",
   "execution_count": 18,
   "id": "05bcb5ce-1f6c-4ddc-be60-cdb03814f879",
   "metadata": {},
   "outputs": [
    {
     "data": {
      "text/plain": [
       "<Axes: xlabel='msrp', ylabel='Count'>"
      ]
     },
     "execution_count": 18,
     "metadata": {},
     "output_type": "execute_result"
    },
    {
     "data": {
      "image/png": "[encoded data removed]",
      "text/plain": [
       "<Figure size 640x480 with 1 Axes>"
      ]
     },
     "metadata": {},
     "output_type": "display_data"
    }
   ],
   "source": [
    "sns.histplot(df.msrp[df.msrp < 100000], bins=50)\n",
    "\n",
    "# Bins sets the number of bars in the width"
   ]
  },
  {
   "cell_type": "code",
   "execution_count": 19,
   "id": "fc4765c2-8aeb-4d55-a756-5ccde73e5b91",
   "metadata": {},
   "outputs": [
    {
     "data": {
      "text/plain": [
       "np.int64(2065902)"
      ]
     },
     "execution_count": 19,
     "metadata": {},
     "output_type": "execute_result"
    }
   ],
   "source": [
    "df.msrp.max()"
   ]
  },
  {
   "cell_type": "markdown",
   "id": "6bc6476f-84bc-4362-8dbf-51d3572310f4",
   "metadata": {},
   "source": [
    "Large values may confuse the model. We can use the log of the values to decrease them"
   ]
  },
  {
   "cell_type": "code",
   "execution_count": 20,
   "id": "584e3a64-ad5f-4610-86e4-a42a78adf7d8",
   "metadata": {},
   "outputs": [
    {
     "data": {
      "text/plain": [
       "array([0.        , 0.69314718, 2.39789527, 4.61512052, 9.86485067])"
      ]
     },
     "execution_count": 20,
     "metadata": {},
     "output_type": "execute_result"
    }
   ],
   "source": [
    "# log1p adds 1 to each value then finds the log. Protects against running log(0)\n",
    "values = np.array([0, 1, 10, 100, 19241])\n",
    "np.log1p(values)"
   ]
  },
  {
   "cell_type": "code",
   "execution_count": 21,
   "id": "ca36036f-8f5c-4963-a9b8-cdaa112321f7",
   "metadata": {},
   "outputs": [
    {
     "data": {
      "text/plain": [
       "0        10.739349\n",
       "1        10.612779\n",
       "2        10.500977\n",
       "3        10.290483\n",
       "4        10.448744\n",
       "           ...    \n",
       "11909    10.739024\n",
       "11910    10.945018\n",
       "11911    10.832122\n",
       "11912    10.838031\n",
       "11913    10.274913\n",
       "Name: msrp, Length: 11914, dtype: float64"
      ]
     },
     "execution_count": 21,
     "metadata": {},
     "output_type": "execute_result"
    }
   ],
   "source": [
    "price_logs = np.log1p(df.msrp)\n",
    "price_logs"
   ]
  },
  {
   "cell_type": "code",
   "execution_count": 22,
   "id": "ec0b3bd7-89a3-42c5-96ca-938d090c965e",
   "metadata": {},
   "outputs": [
    {
     "data": {
      "text/plain": [
       "<Axes: xlabel='msrp', ylabel='Count'>"
      ]
     },
     "execution_count": 22,
     "metadata": {},
     "output_type": "execute_result"
    },
    {
     "data": {
      "image/png": "[encoded data removed]",
      "text/plain": [
       "<Figure size 640x480 with 1 Axes>"
      ]
     },
     "metadata": {},
     "output_type": "display_data"
    }
   ],
   "source": [
    "sns.histplot(price_logs, bins=50)"
   ]
  },
  {
   "cell_type": "markdown",
   "id": "be88e106-40f7-4e6b-bb39-18e2e8f91bd9",
   "metadata": {},
   "source": [
    "### Missing Values"
   ]
  },
  {
   "cell_type": "code",
   "execution_count": 23,
   "id": "c07b3ba1-2a07-4090-a341-e4c5fb4e4bb1",
   "metadata": {},
   "outputs": [
    {
     "data": {
      "text/plain": [
       "make                    0\n",
       "model                   0\n",
       "year                    0\n",
       "engine_fuel_type        3\n",
       "engine_hp              69\n",
       "engine_cylinders       30\n",
       "transmission_type       0\n",
       "driven_wheels           0\n",
       "number_of_doors         6\n",
       "market_category      3742\n",
       "vehicle_size            0\n",
       "vehicle_style           0\n",
       "highway_mpg             0\n",
       "city_mpg                0\n",
       "popularity              0\n",
       "msrp                    0\n",
       "dtype: int64"
      ]
     },
     "execution_count": 23,
     "metadata": {},
     "output_type": "execute_result"
    }
   ],
   "source": [
    "# To find missing values:\n",
    "df.isnull().sum()"
   ]
  },
  {
   "cell_type": "markdown",
   "id": "17e07992-a75f-41e2-b07e-03b94eec7741",
   "metadata": {},
   "source": [
    "A lot of missing values for market_category. Might not be a useful variable when creating model"
   ]
  },
  {
   "cell_type": "markdown",
   "id": "04fca580-b32d-48e7-b0ec-4283d61941bc",
   "metadata": {},
   "source": [
    "## 2.4 Setting up the Validation Framework"
   ]
  },
  {
   "cell_type": "code",
   "execution_count": 24,
   "id": "a33ca6ae-ee75-46b9-ad4d-66fe8fcf7c01",
   "metadata": {},
   "outputs": [],
   "source": [
    "# Break the data into training, testing, and validation data"
   ]
  },
  {
   "cell_type": "code",
   "execution_count": 25,
   "id": "5e89b270-d596-45e4-a19d-f7839a57a29f",
   "metadata": {},
   "outputs": [
    {
     "data": {
      "text/plain": [
       "11914"
      ]
     },
     "execution_count": 25,
     "metadata": {},
     "output_type": "execute_result"
    }
   ],
   "source": [
    "# Get the size:\n",
    "n = len(df)\n",
    "n"
   ]
  },
  {
   "cell_type": "code",
   "execution_count": 26,
   "id": "6f807b7a-d26b-41db-9847-2b85cf683d9c",
   "metadata": {},
   "outputs": [
    {
     "name": "stdout",
     "output_type": "stream",
     "text": [
      "Validation Length: 2382\n",
      "Test Length: 2382\n",
      "Training Length: 7150\n"
     ]
    }
   ],
   "source": [
    "# 60% Training, 20% validation, 20% test\n",
    "n_val = int(n * 0.2)\n",
    "n_test = int(n*0.2)\n",
    "n_train = n - n_val - n_test\n",
    "\n",
    "print(f\"Validation Length: {n_val}\")\n",
    "print(f\"Test Length: {n_test}\")\n",
    "print(f\"Training Length: {n_train}\")"
   ]
  },
  {
   "cell_type": "code",
   "execution_count": 27,
   "id": "5e23b2d6-e599-40bb-bce7-4c429de3021c",
   "metadata": {},
   "outputs": [
    {
     "data": {
      "text/plain": [
       "array([2735, 6720, 5878, ..., 6637, 2575, 7336], shape=(11914,))"
      ]
     },
     "execution_count": 27,
     "metadata": {},
     "output_type": "execute_result"
    }
   ],
   "source": [
    "# Generate an array of shuffled indexes with the same length as the dataset. This helps make sure that any data that might be organised gets unorganised\n",
    "\n",
    "idx = np.arange(n)\n",
    "np.random.seed(2) # Can use a seed to get reproducable results\n",
    "np.random.shuffle(idx)\n",
    "idx"
   ]
  },
  {
   "cell_type": "code",
   "execution_count": 28,
   "id": "0fc668b1-2041-4a4a-ae52-63a51e46ae75",
   "metadata": {},
   "outputs": [],
   "source": [
    "# Use the DataFrames iloc() function to split the data\n",
    "X_val = df.iloc[idx[:n_val]]"
   ]
  },
  {
   "cell_type": "code",
   "execution_count": 29,
   "id": "6aa55348-4ea0-451d-820a-6e6ace83d985",
   "metadata": {},
   "outputs": [],
   "source": [
    "X_test = df.iloc[idx[n_val:n_val + n_test]]"
   ]
  },
  {
   "cell_type": "code",
   "execution_count": 30,
   "id": "283986b3-cd6d-4ef4-a713-5427051f6357",
   "metadata": {},
   "outputs": [],
   "source": [
    "X_train = df.iloc[idx[n_val + n_test:]]"
   ]
  },
  {
   "cell_type": "code",
   "execution_count": 31,
   "id": "f2829a47-e811-4b65-a93a-a91bf982f1b4",
   "metadata": {},
   "outputs": [
    {
     "data": {
      "text/html": [
       "<div>\n",
       "<style scoped>\n",
       "    .dataframe tbody tr th:only-of-type {\n",
       "        vertical-align: middle;\n",
       "    }\n",
       "\n",
       "    .dataframe tbody tr th {\n",
       "        vertical-align: top;\n",
       "    }\n",
       "\n",
       "    .dataframe thead th {\n",
       "        text-align: right;\n",
       "    }\n",
       "</style>\n",
       "<table border=\"1\" class=\"dataframe\">\n",
       "  <thead>\n",
       "    <tr style=\"text-align: right;\">\n",
       "      <th></th>\n",
       "      <th>make</th>\n",
       "      <th>model</th>\n",
       "      <th>year</th>\n",
       "      <th>engine_fuel_type</th>\n",
       "      <th>engine_hp</th>\n",
       "      <th>engine_cylinders</th>\n",
       "      <th>transmission_type</th>\n",
       "      <th>driven_wheels</th>\n",
       "      <th>number_of_doors</th>\n",
       "      <th>market_category</th>\n",
       "      <th>vehicle_size</th>\n",
       "      <th>vehicle_style</th>\n",
       "      <th>highway_mpg</th>\n",
       "      <th>city_mpg</th>\n",
       "      <th>popularity</th>\n",
       "      <th>msrp</th>\n",
       "    </tr>\n",
       "  </thead>\n",
       "  <tbody>\n",
       "    <tr>\n",
       "      <th>2735</th>\n",
       "      <td>chevrolet</td>\n",
       "      <td>cobalt</td>\n",
       "      <td>2008</td>\n",
       "      <td>regular unleaded</td>\n",
       "      <td>148.0</td>\n",
       "      <td>4.0</td>\n",
       "      <td>manual</td>\n",
       "      <td>front wheel drive</td>\n",
       "      <td>2.0</td>\n",
       "      <td>NaN</td>\n",
       "      <td>compact</td>\n",
       "      <td>coupe</td>\n",
       "      <td>33</td>\n",
       "      <td>24</td>\n",
       "      <td>1385</td>\n",
       "      <td>14410</td>\n",
       "    </tr>\n",
       "    <tr>\n",
       "      <th>6720</th>\n",
       "      <td>toyota</td>\n",
       "      <td>matrix</td>\n",
       "      <td>2012</td>\n",
       "      <td>regular unleaded</td>\n",
       "      <td>132.0</td>\n",
       "      <td>4.0</td>\n",
       "      <td>automatic</td>\n",
       "      <td>front wheel drive</td>\n",
       "      <td>4.0</td>\n",
       "      <td>hatchback</td>\n",
       "      <td>compact</td>\n",
       "      <td>4dr hatchback</td>\n",
       "      <td>32</td>\n",
       "      <td>25</td>\n",
       "      <td>2031</td>\n",
       "      <td>19685</td>\n",
       "    </tr>\n",
       "    <tr>\n",
       "      <th>5878</th>\n",
       "      <td>subaru</td>\n",
       "      <td>impreza</td>\n",
       "      <td>2016</td>\n",
       "      <td>regular unleaded</td>\n",
       "      <td>148.0</td>\n",
       "      <td>4.0</td>\n",
       "      <td>automatic</td>\n",
       "      <td>all wheel drive</td>\n",
       "      <td>4.0</td>\n",
       "      <td>hatchback</td>\n",
       "      <td>compact</td>\n",
       "      <td>4dr hatchback</td>\n",
       "      <td>37</td>\n",
       "      <td>28</td>\n",
       "      <td>640</td>\n",
       "      <td>19795</td>\n",
       "    </tr>\n",
       "    <tr>\n",
       "      <th>11190</th>\n",
       "      <td>volkswagen</td>\n",
       "      <td>vanagon</td>\n",
       "      <td>1991</td>\n",
       "      <td>regular unleaded</td>\n",
       "      <td>90.0</td>\n",
       "      <td>4.0</td>\n",
       "      <td>manual</td>\n",
       "      <td>rear wheel drive</td>\n",
       "      <td>3.0</td>\n",
       "      <td>NaN</td>\n",
       "      <td>large</td>\n",
       "      <td>passenger minivan</td>\n",
       "      <td>18</td>\n",
       "      <td>16</td>\n",
       "      <td>873</td>\n",
       "      <td>2000</td>\n",
       "    </tr>\n",
       "    <tr>\n",
       "      <th>4554</th>\n",
       "      <td>ford</td>\n",
       "      <td>f-150</td>\n",
       "      <td>2017</td>\n",
       "      <td>flex-fuel (unleaded/e85)</td>\n",
       "      <td>385.0</td>\n",
       "      <td>8.0</td>\n",
       "      <td>automatic</td>\n",
       "      <td>four wheel drive</td>\n",
       "      <td>4.0</td>\n",
       "      <td>flex fuel</td>\n",
       "      <td>large</td>\n",
       "      <td>crew cab pickup</td>\n",
       "      <td>21</td>\n",
       "      <td>15</td>\n",
       "      <td>5657</td>\n",
       "      <td>56260</td>\n",
       "    </tr>\n",
       "  </tbody>\n",
       "</table>\n",
       "</div>"
      ],
      "text/plain": [
       "             make    model  year          engine_fuel_type  engine_hp  \\\n",
       "2735    chevrolet   cobalt  2008          regular unleaded      148.0   \n",
       "6720       toyota   matrix  2012          regular unleaded      132.0   \n",
       "5878       subaru  impreza  2016          regular unleaded      148.0   \n",
       "11190  volkswagen  vanagon  1991          regular unleaded       90.0   \n",
       "4554         ford    f-150  2017  flex-fuel (unleaded/e85)      385.0   \n",
       "\n",
       "       engine_cylinders transmission_type      driven_wheels  number_of_doors  \\\n",
       "2735                4.0            manual  front wheel drive              2.0   \n",
       "6720                4.0         automatic  front wheel drive              4.0   \n",
       "5878                4.0         automatic    all wheel drive              4.0   \n",
       "11190               4.0            manual   rear wheel drive              3.0   \n",
       "4554                8.0         automatic   four wheel drive              4.0   \n",
       "\n",
       "      market_category vehicle_size      vehicle_style  highway_mpg  city_mpg  \\\n",
       "2735              NaN      compact              coupe           33        24   \n",
       "6720        hatchback      compact      4dr hatchback           32        25   \n",
       "5878        hatchback      compact      4dr hatchback           37        28   \n",
       "11190             NaN        large  passenger minivan           18        16   \n",
       "4554        flex fuel        large    crew cab pickup           21        15   \n",
       "\n",
       "       popularity   msrp  \n",
       "2735         1385  14410  \n",
       "6720         2031  19685  \n",
       "5878          640  19795  \n",
       "11190         873   2000  \n",
       "4554         5657  56260  "
      ]
     },
     "execution_count": 31,
     "metadata": {},
     "output_type": "execute_result"
    }
   ],
   "source": [
    "X_val.head()"
   ]
  },
  {
   "cell_type": "code",
   "execution_count": 32,
   "id": "a45e7023-7cb0-43a3-bcbb-46ff3dcc7753",
   "metadata": {},
   "outputs": [
    {
     "data": {
      "text/html": [
       "<div>\n",
       "<style scoped>\n",
       "    .dataframe tbody tr th:only-of-type {\n",
       "        vertical-align: middle;\n",
       "    }\n",
       "\n",
       "    .dataframe tbody tr th {\n",
       "        vertical-align: top;\n",
       "    }\n",
       "\n",
       "    .dataframe thead th {\n",
       "        text-align: right;\n",
       "    }\n",
       "</style>\n",
       "<table border=\"1\" class=\"dataframe\">\n",
       "  <thead>\n",
       "    <tr style=\"text-align: right;\">\n",
       "      <th></th>\n",
       "      <th>make</th>\n",
       "      <th>model</th>\n",
       "      <th>year</th>\n",
       "      <th>engine_fuel_type</th>\n",
       "      <th>engine_hp</th>\n",
       "      <th>engine_cylinders</th>\n",
       "      <th>transmission_type</th>\n",
       "      <th>driven_wheels</th>\n",
       "      <th>number_of_doors</th>\n",
       "      <th>market_category</th>\n",
       "      <th>vehicle_size</th>\n",
       "      <th>vehicle_style</th>\n",
       "      <th>highway_mpg</th>\n",
       "      <th>city_mpg</th>\n",
       "      <th>popularity</th>\n",
       "      <th>msrp</th>\n",
       "    </tr>\n",
       "  </thead>\n",
       "  <tbody>\n",
       "    <tr>\n",
       "      <th>3292</th>\n",
       "      <td>nissan</td>\n",
       "      <td>cube</td>\n",
       "      <td>2014</td>\n",
       "      <td>regular unleaded</td>\n",
       "      <td>122.0</td>\n",
       "      <td>4.0</td>\n",
       "      <td>automatic</td>\n",
       "      <td>front wheel drive</td>\n",
       "      <td>4.0</td>\n",
       "      <td>NaN</td>\n",
       "      <td>compact</td>\n",
       "      <td>wagon</td>\n",
       "      <td>31</td>\n",
       "      <td>27</td>\n",
       "      <td>2009</td>\n",
       "      <td>19000</td>\n",
       "    </tr>\n",
       "    <tr>\n",
       "      <th>4239</th>\n",
       "      <td>suzuki</td>\n",
       "      <td>esteem</td>\n",
       "      <td>2001</td>\n",
       "      <td>regular unleaded</td>\n",
       "      <td>122.0</td>\n",
       "      <td>4.0</td>\n",
       "      <td>manual</td>\n",
       "      <td>front wheel drive</td>\n",
       "      <td>4.0</td>\n",
       "      <td>NaN</td>\n",
       "      <td>compact</td>\n",
       "      <td>wagon</td>\n",
       "      <td>32</td>\n",
       "      <td>24</td>\n",
       "      <td>481</td>\n",
       "      <td>14499</td>\n",
       "    </tr>\n",
       "    <tr>\n",
       "      <th>6937</th>\n",
       "      <td>tesla</td>\n",
       "      <td>model s</td>\n",
       "      <td>2016</td>\n",
       "      <td>electric</td>\n",
       "      <td>NaN</td>\n",
       "      <td>0.0</td>\n",
       "      <td>direct_drive</td>\n",
       "      <td>all wheel drive</td>\n",
       "      <td>4.0</td>\n",
       "      <td>exotic,high-performance</td>\n",
       "      <td>large</td>\n",
       "      <td>sedan</td>\n",
       "      <td>100</td>\n",
       "      <td>91</td>\n",
       "      <td>1391</td>\n",
       "      <td>112000</td>\n",
       "    </tr>\n",
       "    <tr>\n",
       "      <th>1712</th>\n",
       "      <td>mazda</td>\n",
       "      <td>b-series pickup</td>\n",
       "      <td>2000</td>\n",
       "      <td>flex-fuel (unleaded/e85)</td>\n",
       "      <td>143.0</td>\n",
       "      <td>6.0</td>\n",
       "      <td>manual</td>\n",
       "      <td>rear wheel drive</td>\n",
       "      <td>4.0</td>\n",
       "      <td>flex fuel</td>\n",
       "      <td>compact</td>\n",
       "      <td>extended cab pickup</td>\n",
       "      <td>21</td>\n",
       "      <td>16</td>\n",
       "      <td>586</td>\n",
       "      <td>3107</td>\n",
       "    </tr>\n",
       "    <tr>\n",
       "      <th>11742</th>\n",
       "      <td>cadillac</td>\n",
       "      <td>xt5</td>\n",
       "      <td>2017</td>\n",
       "      <td>premium unleaded (required)</td>\n",
       "      <td>310.0</td>\n",
       "      <td>6.0</td>\n",
       "      <td>automatic</td>\n",
       "      <td>front wheel drive</td>\n",
       "      <td>4.0</td>\n",
       "      <td>crossover,luxury</td>\n",
       "      <td>midsize</td>\n",
       "      <td>4dr suv</td>\n",
       "      <td>27</td>\n",
       "      <td>19</td>\n",
       "      <td>1624</td>\n",
       "      <td>44895</td>\n",
       "    </tr>\n",
       "  </tbody>\n",
       "</table>\n",
       "</div>"
      ],
      "text/plain": [
       "           make            model  year             engine_fuel_type  \\\n",
       "3292     nissan             cube  2014             regular unleaded   \n",
       "4239     suzuki           esteem  2001             regular unleaded   \n",
       "6937      tesla          model s  2016                     electric   \n",
       "1712      mazda  b-series pickup  2000     flex-fuel (unleaded/e85)   \n",
       "11742  cadillac              xt5  2017  premium unleaded (required)   \n",
       "\n",
       "       engine_hp  engine_cylinders transmission_type      driven_wheels  \\\n",
       "3292       122.0               4.0         automatic  front wheel drive   \n",
       "4239       122.0               4.0            manual  front wheel drive   \n",
       "6937         NaN               0.0      direct_drive    all wheel drive   \n",
       "1712       143.0               6.0            manual   rear wheel drive   \n",
       "11742      310.0               6.0         automatic  front wheel drive   \n",
       "\n",
       "       number_of_doors          market_category vehicle_size  \\\n",
       "3292               4.0                      NaN      compact   \n",
       "4239               4.0                      NaN      compact   \n",
       "6937               4.0  exotic,high-performance        large   \n",
       "1712               4.0                flex fuel      compact   \n",
       "11742              4.0         crossover,luxury      midsize   \n",
       "\n",
       "             vehicle_style  highway_mpg  city_mpg  popularity    msrp  \n",
       "3292                 wagon           31        27        2009   19000  \n",
       "4239                 wagon           32        24         481   14499  \n",
       "6937                 sedan          100        91        1391  112000  \n",
       "1712   extended cab pickup           21        16         586    3107  \n",
       "11742              4dr suv           27        19        1624   44895  "
      ]
     },
     "execution_count": 32,
     "metadata": {},
     "output_type": "execute_result"
    }
   ],
   "source": [
    "X_test.head()"
   ]
  },
  {
   "cell_type": "code",
   "execution_count": 33,
   "id": "5d153f55-f41b-436e-94b1-2ec99848d83a",
   "metadata": {},
   "outputs": [
    {
     "data": {
      "text/html": [
       "<div>\n",
       "<style scoped>\n",
       "    .dataframe tbody tr th:only-of-type {\n",
       "        vertical-align: middle;\n",
       "    }\n",
       "\n",
       "    .dataframe tbody tr th {\n",
       "        vertical-align: top;\n",
       "    }\n",
       "\n",
       "    .dataframe thead th {\n",
       "        text-align: right;\n",
       "    }\n",
       "</style>\n",
       "<table border=\"1\" class=\"dataframe\">\n",
       "  <thead>\n",
       "    <tr style=\"text-align: right;\">\n",
       "      <th></th>\n",
       "      <th>make</th>\n",
       "      <th>model</th>\n",
       "      <th>year</th>\n",
       "      <th>engine_fuel_type</th>\n",
       "      <th>engine_hp</th>\n",
       "      <th>engine_cylinders</th>\n",
       "      <th>transmission_type</th>\n",
       "      <th>driven_wheels</th>\n",
       "      <th>number_of_doors</th>\n",
       "      <th>market_category</th>\n",
       "      <th>vehicle_size</th>\n",
       "      <th>vehicle_style</th>\n",
       "      <th>highway_mpg</th>\n",
       "      <th>city_mpg</th>\n",
       "      <th>popularity</th>\n",
       "      <th>msrp</th>\n",
       "    </tr>\n",
       "  </thead>\n",
       "  <tbody>\n",
       "    <tr>\n",
       "      <th>8597</th>\n",
       "      <td>kia</td>\n",
       "      <td>rondo</td>\n",
       "      <td>2008</td>\n",
       "      <td>regular unleaded</td>\n",
       "      <td>162.0</td>\n",
       "      <td>4.0</td>\n",
       "      <td>automatic</td>\n",
       "      <td>front wheel drive</td>\n",
       "      <td>4.0</td>\n",
       "      <td>NaN</td>\n",
       "      <td>compact</td>\n",
       "      <td>wagon</td>\n",
       "      <td>26</td>\n",
       "      <td>19</td>\n",
       "      <td>1720</td>\n",
       "      <td>16395</td>\n",
       "    </tr>\n",
       "    <tr>\n",
       "      <th>6408</th>\n",
       "      <td>subaru</td>\n",
       "      <td>legacy</td>\n",
       "      <td>2016</td>\n",
       "      <td>regular unleaded</td>\n",
       "      <td>175.0</td>\n",
       "      <td>4.0</td>\n",
       "      <td>automatic</td>\n",
       "      <td>all wheel drive</td>\n",
       "      <td>4.0</td>\n",
       "      <td>NaN</td>\n",
       "      <td>midsize</td>\n",
       "      <td>sedan</td>\n",
       "      <td>36</td>\n",
       "      <td>26</td>\n",
       "      <td>640</td>\n",
       "      <td>24145</td>\n",
       "    </tr>\n",
       "    <tr>\n",
       "      <th>11241</th>\n",
       "      <td>hyundai</td>\n",
       "      <td>veloster</td>\n",
       "      <td>2016</td>\n",
       "      <td>regular unleaded</td>\n",
       "      <td>132.0</td>\n",
       "      <td>4.0</td>\n",
       "      <td>manual</td>\n",
       "      <td>front wheel drive</td>\n",
       "      <td>3.0</td>\n",
       "      <td>hatchback</td>\n",
       "      <td>compact</td>\n",
       "      <td>2dr hatchback</td>\n",
       "      <td>35</td>\n",
       "      <td>27</td>\n",
       "      <td>1439</td>\n",
       "      <td>18000</td>\n",
       "    </tr>\n",
       "    <tr>\n",
       "      <th>569</th>\n",
       "      <td>fiat</td>\n",
       "      <td>500</td>\n",
       "      <td>2017</td>\n",
       "      <td>premium unleaded (recommended)</td>\n",
       "      <td>101.0</td>\n",
       "      <td>4.0</td>\n",
       "      <td>automatic</td>\n",
       "      <td>front wheel drive</td>\n",
       "      <td>2.0</td>\n",
       "      <td>hatchback</td>\n",
       "      <td>compact</td>\n",
       "      <td>2dr hatchback</td>\n",
       "      <td>33</td>\n",
       "      <td>27</td>\n",
       "      <td>819</td>\n",
       "      <td>15990</td>\n",
       "    </tr>\n",
       "    <tr>\n",
       "      <th>1659</th>\n",
       "      <td>lincoln</td>\n",
       "      <td>aviator</td>\n",
       "      <td>2005</td>\n",
       "      <td>premium unleaded (required)</td>\n",
       "      <td>302.0</td>\n",
       "      <td>8.0</td>\n",
       "      <td>automatic</td>\n",
       "      <td>all wheel drive</td>\n",
       "      <td>4.0</td>\n",
       "      <td>luxury</td>\n",
       "      <td>midsize</td>\n",
       "      <td>4dr suv</td>\n",
       "      <td>16</td>\n",
       "      <td>11</td>\n",
       "      <td>61</td>\n",
       "      <td>43585</td>\n",
       "    </tr>\n",
       "  </tbody>\n",
       "</table>\n",
       "</div>"
      ],
      "text/plain": [
       "          make     model  year                engine_fuel_type  engine_hp  \\\n",
       "8597       kia     rondo  2008                regular unleaded      162.0   \n",
       "6408    subaru    legacy  2016                regular unleaded      175.0   \n",
       "11241  hyundai  veloster  2016                regular unleaded      132.0   \n",
       "569       fiat       500  2017  premium unleaded (recommended)      101.0   \n",
       "1659   lincoln   aviator  2005     premium unleaded (required)      302.0   \n",
       "\n",
       "       engine_cylinders transmission_type      driven_wheels  number_of_doors  \\\n",
       "8597                4.0         automatic  front wheel drive              4.0   \n",
       "6408                4.0         automatic    all wheel drive              4.0   \n",
       "11241               4.0            manual  front wheel drive              3.0   \n",
       "569                 4.0         automatic  front wheel drive              2.0   \n",
       "1659                8.0         automatic    all wheel drive              4.0   \n",
       "\n",
       "      market_category vehicle_size  vehicle_style  highway_mpg  city_mpg  \\\n",
       "8597              NaN      compact          wagon           26        19   \n",
       "6408              NaN      midsize          sedan           36        26   \n",
       "11241       hatchback      compact  2dr hatchback           35        27   \n",
       "569         hatchback      compact  2dr hatchback           33        27   \n",
       "1659           luxury      midsize        4dr suv           16        11   \n",
       "\n",
       "       popularity   msrp  \n",
       "8597         1720  16395  \n",
       "6408          640  24145  \n",
       "11241        1439  18000  \n",
       "569           819  15990  \n",
       "1659           61  43585  "
      ]
     },
     "execution_count": 33,
     "metadata": {},
     "output_type": "execute_result"
    }
   ],
   "source": [
    "X_train.head()"
   ]
  },
  {
   "cell_type": "code",
   "execution_count": 34,
   "id": "1e0d0d56-2c0b-4329-9e38-38099708d37c",
   "metadata": {},
   "outputs": [],
   "source": [
    "# Reset the indexes of the dataframes\n",
    "X_train = X_train.reset_index(drop=True)\n",
    "X_val = X_val.reset_index(drop=True)\n",
    "X_test = X_test.reset_index(drop=True)"
   ]
  },
  {
   "cell_type": "code",
   "execution_count": 35,
   "id": "bf5bd743-cf65-4358-b32c-f477a7098175",
   "metadata": {},
   "outputs": [],
   "source": [
    "y_train = np.log1p(X_train.msrp.values)\n",
    "y_val = np.log1p(X_val.msrp.values)\n",
    "y_test = np.log1p(X_test.msrp.values)"
   ]
  },
  {
   "cell_type": "code",
   "execution_count": 36,
   "id": "ce6ed6d3-ecdb-4f65-ba27-61a30b8239c6",
   "metadata": {},
   "outputs": [],
   "source": [
    "# Delete the MSRP co\n",
    "del X_train[\"msrp\"]\n",
    "del X_val[\"msrp\"]\n",
    "del X_test[\"msrp\"]"
   ]
  },
  {
   "cell_type": "markdown",
   "id": "7e2ac852-a33c-4abc-9d8b-5196042cc4e8",
   "metadata": {},
   "source": [
    "## 2.5 - Linear Regression\n",
    "(Of regression, classification, ranking)\n",
    "Model for predicting numbers.\n",
    "\n",
    "g(X) ~= y"
   ]
  },
  {
   "cell_type": "code",
   "execution_count": 37,
   "id": "15de1450-a333-4fc7-a27b-325fbf082d31",
   "metadata": {},
   "outputs": [
    {
     "data": {
      "text/plain": [
       "make                        chevrolet\n",
       "model                 trailblazer ext\n",
       "year                             2004\n",
       "engine_fuel_type     regular unleaded\n",
       "engine_hp                       275.0\n",
       "engine_cylinders                  6.0\n",
       "transmission_type           automatic\n",
       "driven_wheels        rear wheel drive\n",
       "number_of_doors                   4.0\n",
       "market_category                   NaN\n",
       "vehicle_size                    large\n",
       "vehicle_style                 4dr suv\n",
       "highway_mpg                        18\n",
       "city_mpg                           13\n",
       "popularity                       1385\n",
       "Name: 10, dtype: object"
      ]
     },
     "execution_count": 37,
     "metadata": {},
     "output_type": "execute_result"
    }
   ],
   "source": [
    "X_train.iloc[10]\n"
   ]
  },
  {
   "cell_type": "code",
   "execution_count": 38,
   "id": "4278de4c-596e-490a-976f-c94bdad985e9",
   "metadata": {},
   "outputs": [],
   "source": [
    "# take engine_hp, city_mpg, popularity\n",
    "\n",
    "xi = [275, 13, 1385]"
   ]
  },
  {
   "cell_type": "markdown",
   "id": "605c2793-6ea0-4e49-a134-2d02aa492819",
   "metadata": {},
   "source": [
    "For a single entry:\n",
    "$$x_i = [275, 13, 1385] $$\n",
    "$$g(x_i) ≈ y_i $$\n",
    "$$g(x_i) = W_0 + W_1.x_{i1} + W_2.x_{i2} + W_3.x_{i3} $$\n",
    "\n",
    "$$g(x_i) = W_0 + \\sum_{j=1}^{3} W_j.x_{ij}$$"
   ]
  },
  {
   "cell_type": "code",
   "execution_count": 39,
   "id": "4f768807-819c-489c-b603-c6adac5d265e",
   "metadata": {},
   "outputs": [],
   "source": [
    "w0 = 0\n",
    "w = [1,2,3]"
   ]
  },
  {
   "cell_type": "code",
   "execution_count": 40,
   "id": "aa0aad2a-1dd7-427e-88f8-e44a7cf8e409",
   "metadata": {},
   "outputs": [],
   "source": [
    "def linear_regression(xi):\n",
    "    n = len(xi)\n",
    "\n",
    "    pred = w0\n",
    "\n",
    "    for j in range(n): \n",
    "        pred += pred + w[j] * xi[j]\n",
    "    return pred\n"
   ]
  },
  {
   "cell_type": "code",
   "execution_count": 41,
   "id": "ac47983b-c44d-476a-ab72-247a6767d168",
   "metadata": {},
   "outputs": [],
   "source": [
    "predicted_price = linear_regression(xi)"
   ]
  },
  {
   "cell_type": "code",
   "execution_count": 42,
   "id": "f7fe163b-eaac-4235-b5a3-185a9186ed73",
   "metadata": {},
   "outputs": [
    {
     "name": "stdout",
     "output_type": "stream",
     "text": [
      "Guess: 8.576970395452099\n",
      "Actual: 10.372584520889065\n"
     ]
    }
   ],
   "source": [
    "adjusted_pred = np.log1p(predicted_price)\n",
    "\n",
    "print(f\"Guess: {adjusted_pred}\")\n",
    "print(f\"Actual: {y_train[10]}\")"
   ]
  },
  {
   "cell_type": "markdown",
   "id": "89902791-a8bc-4311-b9e8-a4c8659b786b",
   "metadata": {},
   "source": [
    "## 2.6 - Linear Regression: Vector Form"
   ]
  },
  {
   "cell_type": "code",
   "execution_count": 43,
   "id": "a0767b55-b512-4d6b-b539-e4e851e71af2",
   "metadata": {},
   "outputs": [],
   "source": [
    "def dot(xi, w): \n",
    "    n = len(xi) \n",
    "\n",
    "    res = 0.0\n",
    "\n",
    "    for j in range(n):\n",
    "        res = res + xi[j] * w[j]\n",
    "    return res"
   ]
  },
  {
   "cell_type": "code",
   "execution_count": 44,
   "id": "3c9e6c97-bf21-462a-8194-9e582d91dd1e",
   "metadata": {},
   "outputs": [],
   "source": [
    "def linear_regression(xi, w):\n",
    "    xi = [1] + xi\n",
    "    return dot(xi, w)"
   ]
  },
  {
   "cell_type": "code",
   "execution_count": 45,
   "id": "ec32b87c-8e4e-41e6-8fa3-2355d996368e",
   "metadata": {},
   "outputs": [],
   "source": [
    "x1 = [1, 148, 24, 1385]\n",
    "x2 = [1, 132, 25, 2031]\n",
    "x3 = [1, 453, 11, 86]\n"
   ]
  },
  {
   "cell_type": "code",
   "execution_count": 46,
   "id": "1a60e657-8c7f-45e7-b862-405cd6e2feea",
   "metadata": {},
   "outputs": [
    {
     "data": {
      "text/plain": [
       "array([[   1,  148,   24, 1385],\n",
       "       [   1,  132,   25, 2031],\n",
       "       [   1,  453,   11,   86]])"
      ]
     },
     "execution_count": 46,
     "metadata": {},
     "output_type": "execute_result"
    }
   ],
   "source": [
    "X = [x1, x2, x3]\n",
    "X = np.array(X)\n",
    "X"
   ]
  },
  {
   "cell_type": "code",
   "execution_count": 47,
   "id": "eafae925-de26-4b99-a3c4-2e90837683a1",
   "metadata": {},
   "outputs": [],
   "source": [
    "w = [0.01, 0.04, 0.002]\n",
    "w = [w0] + w"
   ]
  },
  {
   "cell_type": "code",
   "execution_count": 48,
   "id": "a216bbc2-c6e7-419b-b2f8-abe50498a365",
   "metadata": {},
   "outputs": [
    {
     "data": {
      "text/plain": [
       "[0, 0.01, 0.04, 0.002]"
      ]
     },
     "execution_count": 48,
     "metadata": {},
     "output_type": "execute_result"
    }
   ],
   "source": [
    "w"
   ]
  },
  {
   "cell_type": "code",
   "execution_count": 49,
   "id": "92d6156a-b56f-4a94-bf02-2fda8e6ae1fa",
   "metadata": {},
   "outputs": [
    {
     "data": {
      "text/plain": [
       "array([5.21 , 6.382, 5.142])"
      ]
     },
     "execution_count": 49,
     "metadata": {},
     "output_type": "execute_result"
    }
   ],
   "source": [
    "X.dot(w)"
   ]
  },
  {
   "cell_type": "markdown",
   "id": "42fce180-3983-4d87-bca4-960dfd106fb1",
   "metadata": {},
   "source": [
    "## 2.7 Training a linear regression model"
   ]
  },
  {
   "cell_type": "markdown",
   "id": "56faa2b3-bf7b-4341-b88e-7d3e8bec5082",
   "metadata": {},
   "source": [
    "How do we come up with the W vector?\n",
    "\n",
    "$ w = (X^TX)^{-1} . X^T . y $"
   ]
  },
  {
   "cell_type": "code",
   "execution_count": null,
   "id": "a20423ed-3e25-4e4a-9f8e-718d51d8193e",
   "metadata": {},
   "outputs": [],
   "source": []
  },
  {
   "cell_type": "code",
   "execution_count": 50,
   "id": "80a182a7-a584-4ed3-a520-91935104ca1a",
   "metadata": {},
   "outputs": [
    {
     "data": {
      "text/plain": [
       "array([[   1,  148,   24, 1385],\n",
       "       [   1,  132,   25, 2031],\n",
       "       [   1,  453,   11,   86],\n",
       "       [   1,  144,   11,   86],\n",
       "       [   1,  831,   11,  212],\n",
       "       [   1,  231,   17, 8116],\n",
       "       [   1,   63,    5,   21],\n",
       "       [   1,  635,   12,  526],\n",
       "       [   1,  253,   15,  516]])"
      ]
     },
     "execution_count": 50,
     "metadata": {},
     "output_type": "execute_result"
    }
   ],
   "source": [
    "X = [\n",
    "    [   1,  148,   24, 1385],\n",
    "    [   1,  132,   25, 2031],\n",
    "    [   1,  453,   11,   86],\n",
    "    [   1,  144,   11,   86],\n",
    "    [   1,  831,   11,   212],\n",
    "    [   1,  231,   17,   8116],\n",
    "    [   1,  63,   5,   21],\n",
    "    [   1,  635,   12,   526],\n",
    "    [   1,  253,   15,   516],\n",
    "]\n",
    "X = np.array(X)\n",
    "X"
   ]
  },
  {
   "cell_type": "code",
   "execution_count": 51,
   "id": "14d75799-7ac9-471f-bbdb-004f4af5b1a3",
   "metadata": {},
   "outputs": [
    {
     "data": {
      "text/plain": [
       "array([[       9,     2890,      131,    12979],\n",
       "       [    2890,  1480398,    38217,  3041263],\n",
       "       [     131,    38217,     2247,   240368],\n",
       "       [   12979,  3041263,   240368, 72515751]])"
      ]
     },
     "execution_count": 51,
     "metadata": {},
     "output_type": "execute_result"
    }
   ],
   "source": [
    "XTX = X.T.dot(X)\n",
    "XTX # The Gram Matrix"
   ]
  },
  {
   "cell_type": "code",
   "execution_count": 52,
   "id": "fae30aa2-12bd-4df7-aae0-ebc5c1c1d470",
   "metadata": {},
   "outputs": [
    {
     "data": {
      "text/plain": [
       "array([[ 1.19881457e+00, -9.48985177e-04, -5.43141068e-02,\n",
       "         5.26881953e-06],\n",
       "       [-9.48985177e-04,  1.99040038e-06,  1.89540447e-05,\n",
       "         2.35480120e-08],\n",
       "       [-5.43141068e-02,  1.89540447e-05,  3.61673707e-03,\n",
       "        -3.06208370e-06],\n",
       "       [ 5.26881953e-06,  2.35480120e-08, -3.06208370e-06,\n",
       "         2.20093870e-08]])"
      ]
     },
     "execution_count": 52,
     "metadata": {},
     "output_type": "execute_result"
    }
   ],
   "source": [
    "XTX_inv = np.linalg.inv(XTX)\n",
    "XTX_inv"
   ]
  },
  {
   "cell_type": "code",
   "execution_count": 53,
   "id": "4b799851-e178-4a06-9e1c-656efbc61d0a",
   "metadata": {
    "scrolled": true
   },
   "outputs": [
    {
     "data": {
      "text/plain": [
       "array([[ 1.00000000e+00, -3.20314112e-19, -5.00719292e-17,\n",
       "         3.08247201e-19],\n",
       "       [ 1.61999552e-13,  1.00000000e+00,  5.03866455e-14,\n",
       "        -4.37410395e-17],\n",
       "       [ 1.85184171e-14, -1.33812677e-17,  1.00000000e+00,\n",
       "         3.00802575e-19],\n",
       "       [ 1.68264299e-12, -9.52877989e-16,  7.70286879e-14,\n",
       "         1.00000000e+00]])"
      ]
     },
     "execution_count": 53,
     "metadata": {},
     "output_type": "execute_result"
    }
   ],
   "source": [
    "XTX.dot(XTX_inv) # Very close to the identity matrix"
   ]
  },
  {
   "cell_type": "code",
   "execution_count": 54,
   "id": "fa3cf9e0-1695-4a59-a612-f4a7fe2072c1",
   "metadata": {},
   "outputs": [],
   "source": [
    "y = [100, 200, 150, 250, 142, 125, 599, 125, 120]"
   ]
  },
  {
   "cell_type": "code",
   "execution_count": 55,
   "id": "0849c17b-bb15-4278-9385-5ae8ac0b5bf1",
   "metadata": {},
   "outputs": [
    {
     "data": {
      "text/plain": [
       "array([ 5.80199228e+02, -3.89438592e-01, -1.66541686e+01, -7.98362298e-03])"
      ]
     },
     "execution_count": 55,
     "metadata": {},
     "output_type": "execute_result"
    }
   ],
   "source": [
    "w_full = XTX_inv.dot(X.T).dot(y)\n",
    "w_full"
   ]
  },
  {
   "cell_type": "code",
   "execution_count": 56,
   "id": "ebd6c5e7-2fef-48d2-82e6-815407902219",
   "metadata": {},
   "outputs": [
    {
     "data": {
      "text/plain": [
       "np.float64(580.1992282525589)"
      ]
     },
     "execution_count": 56,
     "metadata": {},
     "output_type": "execute_result"
    }
   ],
   "source": [
    "w0 = w_full[0]\n",
    "w0"
   ]
  },
  {
   "cell_type": "code",
   "execution_count": 57,
   "id": "209c3902-eff8-4f90-a345-e62c36273ad6",
   "metadata": {},
   "outputs": [
    {
     "data": {
      "text/plain": [
       "array([-3.89438592e-01, -1.66541686e+01, -7.98362298e-03])"
      ]
     },
     "execution_count": 57,
     "metadata": {},
     "output_type": "execute_result"
    }
   ],
   "source": [
    "w = w_full[1:]\n",
    "w"
   ]
  },
  {
   "cell_type": "code",
   "execution_count": 58,
   "id": "3d655e86-62ae-4ba6-9a34-3047f3ba0675",
   "metadata": {},
   "outputs": [],
   "source": [
    "def train_linear_regression(X, y):\n",
    "    # If the X matrix does not contain ones, we need to add a column at the start\n",
    "    ones = np.ones(X.shape[0])\n",
    "    X = np.column_stack([ones, X])\n",
    "    \n",
    "    XTX = X.T.dot(X)\n",
    "    XTX_inv = np.linalg.inv(XTX)\n",
    "\n",
    "    w = XTX_inv.dot(X.T).dot(y)\n",
    "    return w[0], w[1:]\n",
    "    "
   ]
  },
  {
   "cell_type": "code",
   "execution_count": 59,
   "id": "e8930e0e-969d-4806-bc53-6d7de8147249",
   "metadata": {},
   "outputs": [
    {
     "data": {
      "text/plain": [
       "(np.float64(580.1992282525589),\n",
       " array([-3.89438592e-01, -1.66541686e+01, -7.98362298e-03]))"
      ]
     },
     "execution_count": 59,
     "metadata": {},
     "output_type": "execute_result"
    }
   ],
   "source": [
    "X = [\n",
    "    [148,   24, 1385],\n",
    "    [132,   25, 2031],\n",
    "    [453,   11,   86],\n",
    "    [144,   11,   86],\n",
    "    [831,   11,   212],\n",
    "    [231,   17,   8116],\n",
    "    [63,   5,   21],\n",
    "    [635,   12,   526],\n",
    "    [253,   15,   516],\n",
    "]\n",
    "\n",
    "X = np.array(X)\n",
    "\n",
    "train_linear_regression(X, y)"
   ]
  },
  {
   "cell_type": "markdown",
   "id": "ea019c84-5c43-4c6a-9afe-b4050fbc6c1c",
   "metadata": {},
   "source": [
    "## 2.8 Car price baseline model"
   ]
  },
  {
   "cell_type": "code",
   "execution_count": 60,
   "id": "0c84d038-862f-434d-a8ed-49ee73723108",
   "metadata": {},
   "outputs": [
    {
     "data": {
      "text/plain": [
       "make                  object\n",
       "model                 object\n",
       "year                   int64\n",
       "engine_fuel_type      object\n",
       "engine_hp            float64\n",
       "engine_cylinders     float64\n",
       "transmission_type     object\n",
       "driven_wheels         object\n",
       "number_of_doors      float64\n",
       "market_category       object\n",
       "vehicle_size          object\n",
       "vehicle_style         object\n",
       "highway_mpg            int64\n",
       "city_mpg               int64\n",
       "popularity             int64\n",
       "dtype: object"
      ]
     },
     "execution_count": 60,
     "metadata": {},
     "output_type": "execute_result"
    }
   ],
   "source": [
    "X_train.dtypes"
   ]
  },
  {
   "cell_type": "code",
   "execution_count": 61,
   "id": "3b06eb06-6b1c-48bf-bb42-56556316c04a",
   "metadata": {},
   "outputs": [],
   "source": [
    "# Take all the numerical columns\n",
    "base = [\"year\", \"engine_hp\", \"engine_cylinders\", \"number_of_doors\", \"highway_mpg\", \"city_mpg\", \"popularity\"]"
   ]
  },
  {
   "cell_type": "code",
   "execution_count": 62,
   "id": "175ad052-67ea-4034-bc22-d17debfc661a",
   "metadata": {},
   "outputs": [],
   "source": [
    "# remove the None values\n",
    "X_train = X_train.fillna(0)"
   ]
  },
  {
   "cell_type": "code",
   "execution_count": 63,
   "id": "b0359f7b-e9fe-428b-bb81-4d2c0face07a",
   "metadata": {},
   "outputs": [
    {
     "data": {
      "text/plain": [
       "array([[2008.,  162.,    4., ...,   26.,   19., 1720.],\n",
       "       [2016.,  175.,    4., ...,   36.,   26.,  640.],\n",
       "       [2016.,  132.,    4., ...,   35.,   27., 1439.],\n",
       "       ...,\n",
       "       [2006.,  250.,    6., ...,   22.,   15., 1851.],\n",
       "       [2016.,  174.,    4., ...,   42.,   31., 2202.],\n",
       "       [2015.,  256.,    6., ...,   27.,   20.,  640.]], shape=(7150, 7))"
      ]
     },
     "execution_count": 63,
     "metadata": {},
     "output_type": "execute_result"
    }
   ],
   "source": [
    "X_train_data = X_train[base].values\n",
    "X_train_data"
   ]
  },
  {
   "cell_type": "code",
   "execution_count": 64,
   "id": "df5b30fb-2fb6-4ad4-bb9c-e1cb497a0cb8",
   "metadata": {},
   "outputs": [
    {
     "data": {
      "text/plain": [
       "array([ 9.70479268, 10.09187401,  9.79818259, ..., 10.27852782,\n",
       "       10.00789261, 10.40414162], shape=(7150,))"
      ]
     },
     "execution_count": 64,
     "metadata": {},
     "output_type": "execute_result"
    }
   ],
   "source": [
    "y_train"
   ]
  },
  {
   "cell_type": "code",
   "execution_count": 65,
   "id": "b2ee2e89-8ea4-48a6-ae3b-0efe12b06a45",
   "metadata": {},
   "outputs": [
    {
     "data": {
      "text/plain": [
       "(np.float64(-178.91982969754915),\n",
       " array([ 9.33672412e-02,  3.69035484e-03,  7.82992358e-02, -2.44073072e-02,\n",
       "        -2.94825756e-03,  1.09088611e-02, -4.80654588e-05]))"
      ]
     },
     "execution_count": 65,
     "metadata": {},
     "output_type": "execute_result"
    }
   ],
   "source": [
    "w0, w = train_linear_regression(X_train_data, y_train)\n",
    "w0, w"
   ]
  },
  {
   "cell_type": "code",
   "execution_count": 66,
   "id": "29102a58-489a-40da-b581-b96b51ea81ba",
   "metadata": {},
   "outputs": [
    {
     "data": {
      "text/plain": [
       "array([ 9.42293691, 10.3166396 , 10.15781446, ...,  9.67941313,\n",
       "       10.27472575, 10.63987072], shape=(7150,))"
      ]
     },
     "execution_count": 66,
     "metadata": {},
     "output_type": "execute_result"
    }
   ],
   "source": [
    "y_pred = w0 + X_train_data.dot(w)\n",
    "y_pred"
   ]
  },
  {
   "cell_type": "code",
   "execution_count": 67,
   "id": "ac31ddf4-f5bb-4c89-8329-f7ef57218858",
   "metadata": {},
   "outputs": [
    {
     "data": {
      "text/plain": [
       "<Axes: ylabel='Count'>"
      ]
     },
     "execution_count": 67,
     "metadata": {},
     "output_type": "execute_result"
    },
    {
     "data": {
      "image/png": "[encoded data removed]",
      "text/plain": [
       "<Figure size 640x480 with 1 Axes>"
      ]
     },
     "metadata": {},
     "output_type": "display_data"
    }
   ],
   "source": [
    "sns.histplot(y_pred, color=\"red\", bins=50, alpha=0.5)\n",
    "sns.histplot(y_train, color=\"blue\", bins=50, alpha=0.5)"
   ]
  },
  {
   "cell_type": "markdown",
   "id": "7668ae5b-3ce4-418c-95e6-87de96efe54a",
   "metadata": {},
   "source": [
    "## 2.9 - Root Mean Squared Error"
   ]
  },
  {
   "cell_type": "markdown",
   "id": "c2e9e612-b5a9-4baa-a7bc-2f0431e3cc94",
   "metadata": {},
   "source": [
    "Provides a method of evaluating the model against actual results\n",
    "\n",
    "$$ RMSE = \\sqrt {\\frac{1}{m} \\sum_{i=1}^{m} (g(x_i) - y_i)^2} $$"
   ]
  },
  {
   "cell_type": "code",
   "execution_count": 68,
   "id": "909c8bd5-dfea-4adc-b995-2f88e5c12492",
   "metadata": {},
   "outputs": [],
   "source": [
    "# Find the distance between predicted values and actual values"
   ]
  },
  {
   "cell_type": "code",
   "execution_count": 69,
   "id": "90a3773f-9d9d-4f01-8c62-0e36f6398e35",
   "metadata": {},
   "outputs": [],
   "source": [
    "def rmse(y, t_pred):\n",
    "    error = y - y_pred\n",
    "    se = error ** 2\n",
    "    mse = se.mean()\n",
    "\n",
    "    return np.sqrt(mse)"
   ]
  },
  {
   "cell_type": "code",
   "execution_count": 70,
   "id": "9a9d7f5f-10af-4a88-b218-51a76e5d6942",
   "metadata": {},
   "outputs": [
    {
     "data": {
      "text/plain": [
       "np.float64(0.5134876533319521)"
      ]
     },
     "execution_count": 70,
     "metadata": {},
     "output_type": "execute_result"
    }
   ],
   "source": [
    "rmse(y_train, y_pred)"
   ]
  },
  {
   "cell_type": "markdown",
   "id": "e84bfba4-a978-4ff7-8dd2-3f4062d1564a",
   "metadata": {},
   "source": [
    "## 2.10 Validating the Model"
   ]
  },
  {
   "cell_type": "code",
   "execution_count": 71,
   "id": "02ea7ced-3751-4a85-9a67-21967069e1a5",
   "metadata": {},
   "outputs": [],
   "source": [
    "# We should apply the RMSE to the validation data rather than the training data to be more robust."
   ]
  },
  {
   "cell_type": "code",
   "execution_count": 72,
   "id": "49f6cbae-5600-474e-b0e3-bd2e13a2e216",
   "metadata": {},
   "outputs": [],
   "source": [
    "def prepare_X(df, base: list):\n",
    "    df_num = df[base].fillna(0).values\n",
    "    return df_num"
   ]
  },
  {
   "cell_type": "code",
   "execution_count": 73,
   "id": "49a6e2ce-9dea-4e8a-ae18-13c13fb65c2b",
   "metadata": {},
   "outputs": [
    {
     "data": {
      "text/plain": [
       "(np.float64(-178.91982969754915),\n",
       " array([ 9.33672412e-02,  3.69035484e-03,  7.82992358e-02, -2.44073072e-02,\n",
       "        -2.94825756e-03,  1.09088611e-02, -4.80654588e-05]))"
      ]
     },
     "execution_count": 73,
     "metadata": {},
     "output_type": "execute_result"
    }
   ],
   "source": [
    "# Training the model, using only training data\n",
    "X_train_data = prepare_X(X_train, base)\n",
    "X_train_data\n",
    "\n",
    "w0, w = train_linear_regression(X_train_data, y_train)\n",
    "\n",
    "w0, w"
   ]
  },
  {
   "cell_type": "code",
   "execution_count": 74,
   "id": "2ecfd202-7a6c-4f6c-9635-f4652244cc29",
   "metadata": {},
   "outputs": [
    {
     "data": {
      "text/plain": [
       "array([ 9.47009498,  9.71851049, 10.23586948, ..., 10.16847603,\n",
       "       10.90115153,  9.82870604], shape=(2382,))"
      ]
     },
     "execution_count": 74,
     "metadata": {},
     "output_type": "execute_result"
    }
   ],
   "source": [
    "# Get the predictions of the Validation Data\n",
    "X_val_data = prepare_X(X_val, base)\n",
    "y_pred = w0 + X_val_data.dot(w)\n",
    "\n",
    "y_pred"
   ]
  },
  {
   "cell_type": "code",
   "execution_count": 75,
   "id": "98c10678-2883-4c7c-bc8c-4c3573b3f41a",
   "metadata": {},
   "outputs": [
    {
     "data": {
      "text/plain": [
       "np.float64(0.5222970621783903)"
      ]
     },
     "execution_count": 75,
     "metadata": {},
     "output_type": "execute_result"
    }
   ],
   "source": [
    "rmse(y_val, y_pred)"
   ]
  },
  {
   "cell_type": "markdown",
   "id": "7b73ce40-1be9-4753-9791-342b97e2198b",
   "metadata": {},
   "source": [
    "## 2.11 - Simple Feature Engineering"
   ]
  },
  {
   "cell_type": "code",
   "execution_count": 76,
   "id": "74cb0804-eabe-4f59-b62c-39d89cbd0aa2",
   "metadata": {},
   "outputs": [
    {
     "data": {
      "text/html": [
       "<div>\n",
       "<style scoped>\n",
       "    .dataframe tbody tr th:only-of-type {\n",
       "        vertical-align: middle;\n",
       "    }\n",
       "\n",
       "    .dataframe tbody tr th {\n",
       "        vertical-align: top;\n",
       "    }\n",
       "\n",
       "    .dataframe thead th {\n",
       "        text-align: right;\n",
       "    }\n",
       "</style>\n",
       "<table border=\"1\" class=\"dataframe\">\n",
       "  <thead>\n",
       "    <tr style=\"text-align: right;\">\n",
       "      <th></th>\n",
       "      <th>make</th>\n",
       "      <th>model</th>\n",
       "      <th>year</th>\n",
       "      <th>engine_fuel_type</th>\n",
       "      <th>engine_hp</th>\n",
       "      <th>engine_cylinders</th>\n",
       "      <th>transmission_type</th>\n",
       "      <th>driven_wheels</th>\n",
       "      <th>number_of_doors</th>\n",
       "      <th>market_category</th>\n",
       "      <th>vehicle_size</th>\n",
       "      <th>vehicle_style</th>\n",
       "      <th>highway_mpg</th>\n",
       "      <th>city_mpg</th>\n",
       "      <th>popularity</th>\n",
       "    </tr>\n",
       "  </thead>\n",
       "  <tbody>\n",
       "    <tr>\n",
       "      <th>0</th>\n",
       "      <td>kia</td>\n",
       "      <td>rondo</td>\n",
       "      <td>2008</td>\n",
       "      <td>regular unleaded</td>\n",
       "      <td>162.0</td>\n",
       "      <td>4.0</td>\n",
       "      <td>automatic</td>\n",
       "      <td>front wheel drive</td>\n",
       "      <td>4.0</td>\n",
       "      <td>0</td>\n",
       "      <td>compact</td>\n",
       "      <td>wagon</td>\n",
       "      <td>26</td>\n",
       "      <td>19</td>\n",
       "      <td>1720</td>\n",
       "    </tr>\n",
       "    <tr>\n",
       "      <th>1</th>\n",
       "      <td>subaru</td>\n",
       "      <td>legacy</td>\n",
       "      <td>2016</td>\n",
       "      <td>regular unleaded</td>\n",
       "      <td>175.0</td>\n",
       "      <td>4.0</td>\n",
       "      <td>automatic</td>\n",
       "      <td>all wheel drive</td>\n",
       "      <td>4.0</td>\n",
       "      <td>0</td>\n",
       "      <td>midsize</td>\n",
       "      <td>sedan</td>\n",
       "      <td>36</td>\n",
       "      <td>26</td>\n",
       "      <td>640</td>\n",
       "    </tr>\n",
       "    <tr>\n",
       "      <th>2</th>\n",
       "      <td>hyundai</td>\n",
       "      <td>veloster</td>\n",
       "      <td>2016</td>\n",
       "      <td>regular unleaded</td>\n",
       "      <td>132.0</td>\n",
       "      <td>4.0</td>\n",
       "      <td>manual</td>\n",
       "      <td>front wheel drive</td>\n",
       "      <td>3.0</td>\n",
       "      <td>hatchback</td>\n",
       "      <td>compact</td>\n",
       "      <td>2dr hatchback</td>\n",
       "      <td>35</td>\n",
       "      <td>27</td>\n",
       "      <td>1439</td>\n",
       "    </tr>\n",
       "    <tr>\n",
       "      <th>3</th>\n",
       "      <td>fiat</td>\n",
       "      <td>500</td>\n",
       "      <td>2017</td>\n",
       "      <td>premium unleaded (recommended)</td>\n",
       "      <td>101.0</td>\n",
       "      <td>4.0</td>\n",
       "      <td>automatic</td>\n",
       "      <td>front wheel drive</td>\n",
       "      <td>2.0</td>\n",
       "      <td>hatchback</td>\n",
       "      <td>compact</td>\n",
       "      <td>2dr hatchback</td>\n",
       "      <td>33</td>\n",
       "      <td>27</td>\n",
       "      <td>819</td>\n",
       "    </tr>\n",
       "    <tr>\n",
       "      <th>4</th>\n",
       "      <td>lincoln</td>\n",
       "      <td>aviator</td>\n",
       "      <td>2005</td>\n",
       "      <td>premium unleaded (required)</td>\n",
       "      <td>302.0</td>\n",
       "      <td>8.0</td>\n",
       "      <td>automatic</td>\n",
       "      <td>all wheel drive</td>\n",
       "      <td>4.0</td>\n",
       "      <td>luxury</td>\n",
       "      <td>midsize</td>\n",
       "      <td>4dr suv</td>\n",
       "      <td>16</td>\n",
       "      <td>11</td>\n",
       "      <td>61</td>\n",
       "    </tr>\n",
       "    <tr>\n",
       "      <th>...</th>\n",
       "      <td>...</td>\n",
       "      <td>...</td>\n",
       "      <td>...</td>\n",
       "      <td>...</td>\n",
       "      <td>...</td>\n",
       "      <td>...</td>\n",
       "      <td>...</td>\n",
       "      <td>...</td>\n",
       "      <td>...</td>\n",
       "      <td>...</td>\n",
       "      <td>...</td>\n",
       "      <td>...</td>\n",
       "      <td>...</td>\n",
       "      <td>...</td>\n",
       "      <td>...</td>\n",
       "    </tr>\n",
       "    <tr>\n",
       "      <th>7145</th>\n",
       "      <td>chevrolet</td>\n",
       "      <td>chevy van</td>\n",
       "      <td>1998</td>\n",
       "      <td>regular unleaded</td>\n",
       "      <td>200.0</td>\n",
       "      <td>6.0</td>\n",
       "      <td>automatic</td>\n",
       "      <td>rear wheel drive</td>\n",
       "      <td>3.0</td>\n",
       "      <td>0</td>\n",
       "      <td>midsize</td>\n",
       "      <td>cargo van</td>\n",
       "      <td>18</td>\n",
       "      <td>13</td>\n",
       "      <td>1385</td>\n",
       "    </tr>\n",
       "    <tr>\n",
       "      <th>7146</th>\n",
       "      <td>subaru</td>\n",
       "      <td>xv crosstrek</td>\n",
       "      <td>2014</td>\n",
       "      <td>regular unleaded</td>\n",
       "      <td>160.0</td>\n",
       "      <td>4.0</td>\n",
       "      <td>automatic</td>\n",
       "      <td>all wheel drive</td>\n",
       "      <td>4.0</td>\n",
       "      <td>crossover,hybrid</td>\n",
       "      <td>compact</td>\n",
       "      <td>4dr suv</td>\n",
       "      <td>33</td>\n",
       "      <td>29</td>\n",
       "      <td>640</td>\n",
       "    </tr>\n",
       "    <tr>\n",
       "      <th>7147</th>\n",
       "      <td>dodge</td>\n",
       "      <td>magnum</td>\n",
       "      <td>2006</td>\n",
       "      <td>regular unleaded</td>\n",
       "      <td>250.0</td>\n",
       "      <td>6.0</td>\n",
       "      <td>automatic</td>\n",
       "      <td>all wheel drive</td>\n",
       "      <td>4.0</td>\n",
       "      <td>0</td>\n",
       "      <td>large</td>\n",
       "      <td>wagon</td>\n",
       "      <td>22</td>\n",
       "      <td>15</td>\n",
       "      <td>1851</td>\n",
       "    </tr>\n",
       "    <tr>\n",
       "      <th>7148</th>\n",
       "      <td>honda</td>\n",
       "      <td>civic</td>\n",
       "      <td>2016</td>\n",
       "      <td>regular unleaded</td>\n",
       "      <td>174.0</td>\n",
       "      <td>4.0</td>\n",
       "      <td>automatic</td>\n",
       "      <td>front wheel drive</td>\n",
       "      <td>4.0</td>\n",
       "      <td>0</td>\n",
       "      <td>midsize</td>\n",
       "      <td>sedan</td>\n",
       "      <td>42</td>\n",
       "      <td>31</td>\n",
       "      <td>2202</td>\n",
       "    </tr>\n",
       "    <tr>\n",
       "      <th>7149</th>\n",
       "      <td>subaru</td>\n",
       "      <td>outback</td>\n",
       "      <td>2015</td>\n",
       "      <td>regular unleaded</td>\n",
       "      <td>256.0</td>\n",
       "      <td>6.0</td>\n",
       "      <td>automatic</td>\n",
       "      <td>all wheel drive</td>\n",
       "      <td>4.0</td>\n",
       "      <td>crossover</td>\n",
       "      <td>midsize</td>\n",
       "      <td>4dr suv</td>\n",
       "      <td>27</td>\n",
       "      <td>20</td>\n",
       "      <td>640</td>\n",
       "    </tr>\n",
       "  </tbody>\n",
       "</table>\n",
       "<p>7150 rows × 15 columns</p>\n",
       "</div>"
      ],
      "text/plain": [
       "           make         model  year                engine_fuel_type  \\\n",
       "0           kia         rondo  2008                regular unleaded   \n",
       "1        subaru        legacy  2016                regular unleaded   \n",
       "2       hyundai      veloster  2016                regular unleaded   \n",
       "3          fiat           500  2017  premium unleaded (recommended)   \n",
       "4       lincoln       aviator  2005     premium unleaded (required)   \n",
       "...         ...           ...   ...                             ...   \n",
       "7145  chevrolet     chevy van  1998                regular unleaded   \n",
       "7146     subaru  xv crosstrek  2014                regular unleaded   \n",
       "7147      dodge        magnum  2006                regular unleaded   \n",
       "7148      honda         civic  2016                regular unleaded   \n",
       "7149     subaru       outback  2015                regular unleaded   \n",
       "\n",
       "      engine_hp  engine_cylinders transmission_type      driven_wheels  \\\n",
       "0         162.0               4.0         automatic  front wheel drive   \n",
       "1         175.0               4.0         automatic    all wheel drive   \n",
       "2         132.0               4.0            manual  front wheel drive   \n",
       "3         101.0               4.0         automatic  front wheel drive   \n",
       "4         302.0               8.0         automatic    all wheel drive   \n",
       "...         ...               ...               ...                ...   \n",
       "7145      200.0               6.0         automatic   rear wheel drive   \n",
       "7146      160.0               4.0         automatic    all wheel drive   \n",
       "7147      250.0               6.0         automatic    all wheel drive   \n",
       "7148      174.0               4.0         automatic  front wheel drive   \n",
       "7149      256.0               6.0         automatic    all wheel drive   \n",
       "\n",
       "      number_of_doors   market_category vehicle_size  vehicle_style  \\\n",
       "0                 4.0                 0      compact          wagon   \n",
       "1                 4.0                 0      midsize          sedan   \n",
       "2                 3.0         hatchback      compact  2dr hatchback   \n",
       "3                 2.0         hatchback      compact  2dr hatchback   \n",
       "4                 4.0            luxury      midsize        4dr suv   \n",
       "...               ...               ...          ...            ...   \n",
       "7145              3.0                 0      midsize      cargo van   \n",
       "7146              4.0  crossover,hybrid      compact        4dr suv   \n",
       "7147              4.0                 0        large          wagon   \n",
       "7148              4.0                 0      midsize          sedan   \n",
       "7149              4.0         crossover      midsize        4dr suv   \n",
       "\n",
       "      highway_mpg  city_mpg  popularity  \n",
       "0              26        19        1720  \n",
       "1              36        26         640  \n",
       "2              35        27        1439  \n",
       "3              33        27         819  \n",
       "4              16        11          61  \n",
       "...           ...       ...         ...  \n",
       "7145           18        13        1385  \n",
       "7146           33        29         640  \n",
       "7147           22        15        1851  \n",
       "7148           42        31        2202  \n",
       "7149           27        20         640  \n",
       "\n",
       "[7150 rows x 15 columns]"
      ]
     },
     "execution_count": 76,
     "metadata": {},
     "output_type": "execute_result"
    }
   ],
   "source": [
    "X_train"
   ]
  },
  {
   "cell_type": "code",
   "execution_count": 77,
   "id": "d5d8dbe8-201e-404e-8931-51828f1331c6",
   "metadata": {},
   "outputs": [
    {
     "data": {
      "text/plain": [
       "np.int64(2017)"
      ]
     },
     "execution_count": 77,
     "metadata": {},
     "output_type": "execute_result"
    }
   ],
   "source": [
    "base = [\"engine_hp\", \"engine_cylinders\", \"number_of_doors\", \"highway_mpg\", \"city_mpg\", \"popularity\"]\n",
    "cur_year = X_train.year.max()\n",
    "cur_year"
   ]
  },
  {
   "cell_type": "code",
   "execution_count": 78,
   "id": "674ba4f9-a3ad-4fe0-a05d-563ccc74f894",
   "metadata": {},
   "outputs": [
    {
     "data": {
      "text/plain": [
       "0        9\n",
       "1        1\n",
       "2        1\n",
       "3        0\n",
       "4       12\n",
       "        ..\n",
       "7145    19\n",
       "7146     3\n",
       "7147    11\n",
       "7148     1\n",
       "7149     2\n",
       "Name: year, Length: 7150, dtype: int64"
      ]
     },
     "execution_count": 78,
     "metadata": {},
     "output_type": "execute_result"
    }
   ],
   "source": [
    "# Find the age of the car\n",
    "cur_year - X_train.year"
   ]
  },
  {
   "cell_type": "code",
   "execution_count": 79,
   "id": "c5366e54-cba4-496a-8b31-49a0e50f8697",
   "metadata": {},
   "outputs": [],
   "source": [
    "def prepare_X(df, base: list, cur_year: int):\n",
    "    # Make a copy to not change original dataframe\n",
    "    df = df.copy()\n",
    "    \n",
    "    df[\"age\"] = cur_year - df.year\n",
    "    base = base + [\"age\"]\n",
    "    \n",
    "    df_num = df[base].fillna(0).values\n",
    "    return df_num"
   ]
  },
  {
   "cell_type": "code",
   "execution_count": 80,
   "id": "1487e36a-2dde-48f2-96cc-743de541149a",
   "metadata": {},
   "outputs": [
    {
     "data": {
      "text/plain": [
       "array([[1.620e+02, 4.000e+00, 4.000e+00, ..., 1.900e+01, 1.720e+03,\n",
       "        9.000e+00],\n",
       "       [1.750e+02, 4.000e+00, 4.000e+00, ..., 2.600e+01, 6.400e+02,\n",
       "        1.000e+00],\n",
       "       [1.320e+02, 4.000e+00, 3.000e+00, ..., 2.700e+01, 1.439e+03,\n",
       "        1.000e+00],\n",
       "       ...,\n",
       "       [2.500e+02, 6.000e+00, 4.000e+00, ..., 1.500e+01, 1.851e+03,\n",
       "        1.100e+01],\n",
       "       [1.740e+02, 4.000e+00, 4.000e+00, ..., 3.100e+01, 2.202e+03,\n",
       "        1.000e+00],\n",
       "       [2.560e+02, 6.000e+00, 4.000e+00, ..., 2.000e+01, 6.400e+02,\n",
       "        2.000e+00]], shape=(7150, 7))"
      ]
     },
     "execution_count": 80,
     "metadata": {},
     "output_type": "execute_result"
    }
   ],
   "source": [
    "X_train_data = prepare_X(X_train, base, cur_year)\n",
    "X_train_data"
   ]
  },
  {
   "cell_type": "code",
   "execution_count": 81,
   "id": "1fbefc2d-e687-4eb0-80f0-301efc109862",
   "metadata": {},
   "outputs": [
    {
     "data": {
      "text/plain": [
       "(np.float64(9.401895802822239),\n",
       " array([ 3.69035484e-03,  7.82992358e-02, -2.44073072e-02, -2.94825756e-03,\n",
       "         1.09088611e-02, -4.80654588e-05, -9.33672412e-02]))"
      ]
     },
     "execution_count": 81,
     "metadata": {},
     "output_type": "execute_result"
    }
   ],
   "source": [
    "# Training the model, using only training data\n",
    "X_train_data = prepare_X(X_train, base, cur_year)\n",
    "X_train_data\n",
    "\n",
    "w0, w = train_linear_regression(X_train_data, y_train)\n",
    "\n",
    "w0, w"
   ]
  },
  {
   "cell_type": "code",
   "execution_count": 82,
   "id": "c0081b26-4c11-4c58-bdf0-f3c8d8124cbf",
   "metadata": {},
   "outputs": [
    {
     "data": {
      "text/plain": [
       "array([ 9.47009498,  9.71851049, 10.23586948, ..., 10.16847603,\n",
       "       10.90115153,  9.82870604], shape=(2382,))"
      ]
     },
     "execution_count": 82,
     "metadata": {},
     "output_type": "execute_result"
    }
   ],
   "source": [
    "# Get the predictions of the Validation Data\n",
    "X_val_data = prepare_X(X_val, base, cur_year)\n",
    "y_pred = w0 + X_val_data.dot(w)\n",
    "\n",
    "y_pred"
   ]
  },
  {
   "cell_type": "code",
   "execution_count": 83,
   "id": "08821486-3b89-4268-b35f-35ead75fe7cf",
   "metadata": {},
   "outputs": [
    {
     "data": {
      "text/plain": [
       "np.float64(0.5222970621780998)"
      ]
     },
     "execution_count": 83,
     "metadata": {},
     "output_type": "execute_result"
    }
   ],
   "source": [
    "rmse(y_val, y_pred)"
   ]
  },
  {
   "cell_type": "code",
   "execution_count": 84,
   "id": "73cbd1d4-f41a-49c1-ae02-ac9d5c9b4926",
   "metadata": {},
   "outputs": [
    {
     "data": {
      "text/plain": [
       "<Axes: ylabel='Count'>"
      ]
     },
     "execution_count": 84,
     "metadata": {},
     "output_type": "execute_result"
    },
    {
     "data": {
      "image/png": "[encoded data removed]",
      "text/plain": [
       "<Figure size 640x480 with 1 Axes>"
      ]
     },
     "metadata": {},
     "output_type": "display_data"
    }
   ],
   "source": [
    "sns.histplot(y_val, color=\"red\", bins=50, alpha=0.5)\n",
    "sns.histplot(y_pred, color=\"blue\", bins=50, alpha=0.5)"
   ]
  },
  {
   "cell_type": "markdown",
   "id": "c1333f91-0e06-4c6a-98f9-1a777bd1480b",
   "metadata": {},
   "source": [
    "## 2.12 Categorical Variables"
   ]
  },
  {
   "cell_type": "code",
   "execution_count": 85,
   "id": "88adee78-8be4-4551-840c-00277ae029f9",
   "metadata": {},
   "outputs": [
    {
     "data": {
      "text/plain": [
       "make                  object\n",
       "model                 object\n",
       "year                   int64\n",
       "engine_fuel_type      object\n",
       "engine_hp            float64\n",
       "engine_cylinders     float64\n",
       "transmission_type     object\n",
       "driven_wheels         object\n",
       "number_of_doors      float64\n",
       "market_category       object\n",
       "vehicle_size          object\n",
       "vehicle_style         object\n",
       "highway_mpg            int64\n",
       "city_mpg               int64\n",
       "popularity             int64\n",
       "dtype: object"
      ]
     },
     "execution_count": 85,
     "metadata": {},
     "output_type": "execute_result"
    }
   ],
   "source": [
    "X_train.dtypes"
   ]
  },
  {
   "cell_type": "code",
   "execution_count": 86,
   "id": "9b64de17-41fd-4c0e-b4f4-6571a0db7b16",
   "metadata": {},
   "outputs": [
    {
     "data": {
      "text/plain": [
       "0       4.0\n",
       "1       4.0\n",
       "2       3.0\n",
       "3       2.0\n",
       "4       4.0\n",
       "       ... \n",
       "7145    3.0\n",
       "7146    4.0\n",
       "7147    4.0\n",
       "7148    4.0\n",
       "7149    4.0\n",
       "Name: number_of_doors, Length: 7150, dtype: float64"
      ]
     },
     "execution_count": 86,
     "metadata": {},
     "output_type": "execute_result"
    }
   ],
   "source": [
    "X_train.number_of_doors"
   ]
  },
  {
   "cell_type": "code",
   "execution_count": 88,
   "id": "05932ab3-1494-46ce-95d4-23c84ffacc6b",
   "metadata": {},
   "outputs": [
    {
     "data": {
      "text/plain": [
       "0       0\n",
       "1       0\n",
       "2       0\n",
       "3       1\n",
       "4       0\n",
       "       ..\n",
       "7145    0\n",
       "7146    0\n",
       "7147    0\n",
       "7148    0\n",
       "7149    0\n",
       "Name: number_of_doors, Length: 7150, dtype: int64"
      ]
     },
     "execution_count": 88,
     "metadata": {},
     "output_type": "execute_result"
    }
   ],
   "source": [
    "# We want to try to separate the number of doors column\n",
    "(X_train.number_of_doors == 2).astype(\"int\")"
   ]
  },
  {
   "cell_type": "code",
   "execution_count": 91,
   "id": "dcdcbd48-c472-41ed-a809-e98650c2e1db",
   "metadata": {},
   "outputs": [
    {
     "data": {
      "text/plain": [
       "array([4., 3., 2., 0.])"
      ]
     },
     "execution_count": 91,
     "metadata": {},
     "output_type": "execute_result"
    }
   ],
   "source": [
    "door_types = X_train.number_of_doors.unique()\n",
    "door_types"
   ]
  },
  {
   "cell_type": "code",
   "execution_count": 93,
   "id": "9fa35f6a-cdf1-4910-b3ed-a6c1799e7530",
   "metadata": {},
   "outputs": [],
   "source": [
    "for doors in door_types:\n",
    "    X_train[f\"num_doors_{(int)(doors)}\"] = (X_train.number_of_doors == doors).astype(\"int\")"
   ]
  },
  {
   "cell_type": "code",
   "execution_count": 94,
   "id": "46a80647-8281-41b7-a7f0-e790a05e9ba2",
   "metadata": {},
   "outputs": [
    {
     "data": {
      "text/html": [
       "<div>\n",
       "<style scoped>\n",
       "    .dataframe tbody tr th:only-of-type {\n",
       "        vertical-align: middle;\n",
       "    }\n",
       "\n",
       "    .dataframe tbody tr th {\n",
       "        vertical-align: top;\n",
       "    }\n",
       "\n",
       "    .dataframe thead th {\n",
       "        text-align: right;\n",
       "    }\n",
       "</style>\n",
       "<table border=\"1\" class=\"dataframe\">\n",
       "  <thead>\n",
       "    <tr style=\"text-align: right;\">\n",
       "      <th></th>\n",
       "      <th>make</th>\n",
       "      <th>model</th>\n",
       "      <th>year</th>\n",
       "      <th>engine_fuel_type</th>\n",
       "      <th>engine_hp</th>\n",
       "      <th>engine_cylinders</th>\n",
       "      <th>transmission_type</th>\n",
       "      <th>driven_wheels</th>\n",
       "      <th>number_of_doors</th>\n",
       "      <th>market_category</th>\n",
       "      <th>vehicle_size</th>\n",
       "      <th>vehicle_style</th>\n",
       "      <th>highway_mpg</th>\n",
       "      <th>city_mpg</th>\n",
       "      <th>popularity</th>\n",
       "      <th>num_doors_4</th>\n",
       "      <th>num_doors_3</th>\n",
       "      <th>num_doors_2</th>\n",
       "      <th>num_doors_0</th>\n",
       "    </tr>\n",
       "  </thead>\n",
       "  <tbody>\n",
       "    <tr>\n",
       "      <th>0</th>\n",
       "      <td>kia</td>\n",
       "      <td>rondo</td>\n",
       "      <td>2008</td>\n",
       "      <td>regular unleaded</td>\n",
       "      <td>162.0</td>\n",
       "      <td>4.0</td>\n",
       "      <td>automatic</td>\n",
       "      <td>front wheel drive</td>\n",
       "      <td>4.0</td>\n",
       "      <td>0</td>\n",
       "      <td>compact</td>\n",
       "      <td>wagon</td>\n",
       "      <td>26</td>\n",
       "      <td>19</td>\n",
       "      <td>1720</td>\n",
       "      <td>1</td>\n",
       "      <td>0</td>\n",
       "      <td>0</td>\n",
       "      <td>0</td>\n",
       "    </tr>\n",
       "    <tr>\n",
       "      <th>1</th>\n",
       "      <td>subaru</td>\n",
       "      <td>legacy</td>\n",
       "      <td>2016</td>\n",
       "      <td>regular unleaded</td>\n",
       "      <td>175.0</td>\n",
       "      <td>4.0</td>\n",
       "      <td>automatic</td>\n",
       "      <td>all wheel drive</td>\n",
       "      <td>4.0</td>\n",
       "      <td>0</td>\n",
       "      <td>midsize</td>\n",
       "      <td>sedan</td>\n",
       "      <td>36</td>\n",
       "      <td>26</td>\n",
       "      <td>640</td>\n",
       "      <td>1</td>\n",
       "      <td>0</td>\n",
       "      <td>0</td>\n",
       "      <td>0</td>\n",
       "    </tr>\n",
       "    <tr>\n",
       "      <th>2</th>\n",
       "      <td>hyundai</td>\n",
       "      <td>veloster</td>\n",
       "      <td>2016</td>\n",
       "      <td>regular unleaded</td>\n",
       "      <td>132.0</td>\n",
       "      <td>4.0</td>\n",
       "      <td>manual</td>\n",
       "      <td>front wheel drive</td>\n",
       "      <td>3.0</td>\n",
       "      <td>hatchback</td>\n",
       "      <td>compact</td>\n",
       "      <td>2dr hatchback</td>\n",
       "      <td>35</td>\n",
       "      <td>27</td>\n",
       "      <td>1439</td>\n",
       "      <td>0</td>\n",
       "      <td>1</td>\n",
       "      <td>0</td>\n",
       "      <td>0</td>\n",
       "    </tr>\n",
       "    <tr>\n",
       "      <th>3</th>\n",
       "      <td>fiat</td>\n",
       "      <td>500</td>\n",
       "      <td>2017</td>\n",
       "      <td>premium unleaded (recommended)</td>\n",
       "      <td>101.0</td>\n",
       "      <td>4.0</td>\n",
       "      <td>automatic</td>\n",
       "      <td>front wheel drive</td>\n",
       "      <td>2.0</td>\n",
       "      <td>hatchback</td>\n",
       "      <td>compact</td>\n",
       "      <td>2dr hatchback</td>\n",
       "      <td>33</td>\n",
       "      <td>27</td>\n",
       "      <td>819</td>\n",
       "      <td>0</td>\n",
       "      <td>0</td>\n",
       "      <td>1</td>\n",
       "      <td>0</td>\n",
       "    </tr>\n",
       "    <tr>\n",
       "      <th>4</th>\n",
       "      <td>lincoln</td>\n",
       "      <td>aviator</td>\n",
       "      <td>2005</td>\n",
       "      <td>premium unleaded (required)</td>\n",
       "      <td>302.0</td>\n",
       "      <td>8.0</td>\n",
       "      <td>automatic</td>\n",
       "      <td>all wheel drive</td>\n",
       "      <td>4.0</td>\n",
       "      <td>luxury</td>\n",
       "      <td>midsize</td>\n",
       "      <td>4dr suv</td>\n",
       "      <td>16</td>\n",
       "      <td>11</td>\n",
       "      <td>61</td>\n",
       "      <td>1</td>\n",
       "      <td>0</td>\n",
       "      <td>0</td>\n",
       "      <td>0</td>\n",
       "    </tr>\n",
       "    <tr>\n",
       "      <th>...</th>\n",
       "      <td>...</td>\n",
       "      <td>...</td>\n",
       "      <td>...</td>\n",
       "      <td>...</td>\n",
       "      <td>...</td>\n",
       "      <td>...</td>\n",
       "      <td>...</td>\n",
       "      <td>...</td>\n",
       "      <td>...</td>\n",
       "      <td>...</td>\n",
       "      <td>...</td>\n",
       "      <td>...</td>\n",
       "      <td>...</td>\n",
       "      <td>...</td>\n",
       "      <td>...</td>\n",
       "      <td>...</td>\n",
       "      <td>...</td>\n",
       "      <td>...</td>\n",
       "      <td>...</td>\n",
       "    </tr>\n",
       "    <tr>\n",
       "      <th>7145</th>\n",
       "      <td>chevrolet</td>\n",
       "      <td>chevy van</td>\n",
       "      <td>1998</td>\n",
       "      <td>regular unleaded</td>\n",
       "      <td>200.0</td>\n",
       "      <td>6.0</td>\n",
       "      <td>automatic</td>\n",
       "      <td>rear wheel drive</td>\n",
       "      <td>3.0</td>\n",
       "      <td>0</td>\n",
       "      <td>midsize</td>\n",
       "      <td>cargo van</td>\n",
       "      <td>18</td>\n",
       "      <td>13</td>\n",
       "      <td>1385</td>\n",
       "      <td>0</td>\n",
       "      <td>1</td>\n",
       "      <td>0</td>\n",
       "      <td>0</td>\n",
       "    </tr>\n",
       "    <tr>\n",
       "      <th>7146</th>\n",
       "      <td>subaru</td>\n",
       "      <td>xv crosstrek</td>\n",
       "      <td>2014</td>\n",
       "      <td>regular unleaded</td>\n",
       "      <td>160.0</td>\n",
       "      <td>4.0</td>\n",
       "      <td>automatic</td>\n",
       "      <td>all wheel drive</td>\n",
       "      <td>4.0</td>\n",
       "      <td>crossover,hybrid</td>\n",
       "      <td>compact</td>\n",
       "      <td>4dr suv</td>\n",
       "      <td>33</td>\n",
       "      <td>29</td>\n",
       "      <td>640</td>\n",
       "      <td>1</td>\n",
       "      <td>0</td>\n",
       "      <td>0</td>\n",
       "      <td>0</td>\n",
       "    </tr>\n",
       "    <tr>\n",
       "      <th>7147</th>\n",
       "      <td>dodge</td>\n",
       "      <td>magnum</td>\n",
       "      <td>2006</td>\n",
       "      <td>regular unleaded</td>\n",
       "      <td>250.0</td>\n",
       "      <td>6.0</td>\n",
       "      <td>automatic</td>\n",
       "      <td>all wheel drive</td>\n",
       "      <td>4.0</td>\n",
       "      <td>0</td>\n",
       "      <td>large</td>\n",
       "      <td>wagon</td>\n",
       "      <td>22</td>\n",
       "      <td>15</td>\n",
       "      <td>1851</td>\n",
       "      <td>1</td>\n",
       "      <td>0</td>\n",
       "      <td>0</td>\n",
       "      <td>0</td>\n",
       "    </tr>\n",
       "    <tr>\n",
       "      <th>7148</th>\n",
       "      <td>honda</td>\n",
       "      <td>civic</td>\n",
       "      <td>2016</td>\n",
       "      <td>regular unleaded</td>\n",
       "      <td>174.0</td>\n",
       "      <td>4.0</td>\n",
       "      <td>automatic</td>\n",
       "      <td>front wheel drive</td>\n",
       "      <td>4.0</td>\n",
       "      <td>0</td>\n",
       "      <td>midsize</td>\n",
       "      <td>sedan</td>\n",
       "      <td>42</td>\n",
       "      <td>31</td>\n",
       "      <td>2202</td>\n",
       "      <td>1</td>\n",
       "      <td>0</td>\n",
       "      <td>0</td>\n",
       "      <td>0</td>\n",
       "    </tr>\n",
       "    <tr>\n",
       "      <th>7149</th>\n",
       "      <td>subaru</td>\n",
       "      <td>outback</td>\n",
       "      <td>2015</td>\n",
       "      <td>regular unleaded</td>\n",
       "      <td>256.0</td>\n",
       "      <td>6.0</td>\n",
       "      <td>automatic</td>\n",
       "      <td>all wheel drive</td>\n",
       "      <td>4.0</td>\n",
       "      <td>crossover</td>\n",
       "      <td>midsize</td>\n",
       "      <td>4dr suv</td>\n",
       "      <td>27</td>\n",
       "      <td>20</td>\n",
       "      <td>640</td>\n",
       "      <td>1</td>\n",
       "      <td>0</td>\n",
       "      <td>0</td>\n",
       "      <td>0</td>\n",
       "    </tr>\n",
       "  </tbody>\n",
       "</table>\n",
       "<p>7150 rows × 19 columns</p>\n",
       "</div>"
      ],
      "text/plain": [
       "           make         model  year                engine_fuel_type  \\\n",
       "0           kia         rondo  2008                regular unleaded   \n",
       "1        subaru        legacy  2016                regular unleaded   \n",
       "2       hyundai      veloster  2016                regular unleaded   \n",
       "3          fiat           500  2017  premium unleaded (recommended)   \n",
       "4       lincoln       aviator  2005     premium unleaded (required)   \n",
       "...         ...           ...   ...                             ...   \n",
       "7145  chevrolet     chevy van  1998                regular unleaded   \n",
       "7146     subaru  xv crosstrek  2014                regular unleaded   \n",
       "7147      dodge        magnum  2006                regular unleaded   \n",
       "7148      honda         civic  2016                regular unleaded   \n",
       "7149     subaru       outback  2015                regular unleaded   \n",
       "\n",
       "      engine_hp  engine_cylinders transmission_type      driven_wheels  \\\n",
       "0         162.0               4.0         automatic  front wheel drive   \n",
       "1         175.0               4.0         automatic    all wheel drive   \n",
       "2         132.0               4.0            manual  front wheel drive   \n",
       "3         101.0               4.0         automatic  front wheel drive   \n",
       "4         302.0               8.0         automatic    all wheel drive   \n",
       "...         ...               ...               ...                ...   \n",
       "7145      200.0               6.0         automatic   rear wheel drive   \n",
       "7146      160.0               4.0         automatic    all wheel drive   \n",
       "7147      250.0               6.0         automatic    all wheel drive   \n",
       "7148      174.0               4.0         automatic  front wheel drive   \n",
       "7149      256.0               6.0         automatic    all wheel drive   \n",
       "\n",
       "      number_of_doors   market_category vehicle_size  vehicle_style  \\\n",
       "0                 4.0                 0      compact          wagon   \n",
       "1                 4.0                 0      midsize          sedan   \n",
       "2                 3.0         hatchback      compact  2dr hatchback   \n",
       "3                 2.0         hatchback      compact  2dr hatchback   \n",
       "4                 4.0            luxury      midsize        4dr suv   \n",
       "...               ...               ...          ...            ...   \n",
       "7145              3.0                 0      midsize      cargo van   \n",
       "7146              4.0  crossover,hybrid      compact        4dr suv   \n",
       "7147              4.0                 0        large          wagon   \n",
       "7148              4.0                 0      midsize          sedan   \n",
       "7149              4.0         crossover      midsize        4dr suv   \n",
       "\n",
       "      highway_mpg  city_mpg  popularity  num_doors_4  num_doors_3  \\\n",
       "0              26        19        1720            1            0   \n",
       "1              36        26         640            1            0   \n",
       "2              35        27        1439            0            1   \n",
       "3              33        27         819            0            0   \n",
       "4              16        11          61            1            0   \n",
       "...           ...       ...         ...          ...          ...   \n",
       "7145           18        13        1385            0            1   \n",
       "7146           33        29         640            1            0   \n",
       "7147           22        15        1851            1            0   \n",
       "7148           42        31        2202            1            0   \n",
       "7149           27        20         640            1            0   \n",
       "\n",
       "      num_doors_2  num_doors_0  \n",
       "0               0            0  \n",
       "1               0            0  \n",
       "2               0            0  \n",
       "3               1            0  \n",
       "4               0            0  \n",
       "...           ...          ...  \n",
       "7145            0            0  \n",
       "7146            0            0  \n",
       "7147            0            0  \n",
       "7148            0            0  \n",
       "7149            0            0  \n",
       "\n",
       "[7150 rows x 19 columns]"
      ]
     },
     "execution_count": 94,
     "metadata": {},
     "output_type": "execute_result"
    }
   ],
   "source": [
    "X_train"
   ]
  },
  {
   "cell_type": "code",
   "execution_count": 98,
   "id": "3224261c-687e-4c5f-92f8-bf1b68da2260",
   "metadata": {},
   "outputs": [],
   "source": [
    "del X_train[\"num_doors_4\"]\n",
    "del X_train[\"num_doors_3\"]\n",
    "del X_train[\"num_doors_2\"]\n",
    "del X_train[\"num_doors_0\"]\n"
   ]
  },
  {
   "cell_type": "code",
   "execution_count": 149,
   "id": "6d2c5938-0c9c-46c4-a645-4dd2100ae906",
   "metadata": {},
   "outputs": [],
   "source": [
    "def prepare_X(df, base: list, cur_year: int):\n",
    "    # Make a copy to not change original dataframe\n",
    "    df = df.copy()\n",
    "    features = base.copy()\n",
    "    \n",
    "    df[\"age\"] = cur_year - df.year\n",
    "    features = features + [\"age\"]\n",
    "\n",
    "    # Add number of doors as a trainable feature\n",
    "\n",
    "    df = df.fillna(0)\n",
    "    \n",
    "    #door_types = df.number_of_doors.unique()\n",
    "    #for doors in door_types:\n",
    "    #    col_name = f\"num_doors_{(int)(doors)}\" \n",
    "    #    df[col_name] = (df.number_of_doors == doors).astype(\"int\")\n",
    "    #    features = features + [col_name]\n",
    "\n",
    "    makes = list(df.make.value_counts().head().index)\n",
    "    for m in makes:\n",
    "        col_name = f\"make_{m}\" \n",
    "        df[col_name] = (df.make == m).astype(\"int\")\n",
    "        features = features + [col_name]\n",
    "\n",
    "    df_num = df[features]\n",
    "    df_num = df_num.fillna(0).values\n",
    "    return df_num"
   ]
  },
  {
   "cell_type": "code",
   "execution_count": 113,
   "id": "b0cc06f3-a1c9-4a94-8e52-8d258656bc4d",
   "metadata": {},
   "outputs": [
    {
     "name": "stdout",
     "output_type": "stream",
     "text": [
      "Door Types: [4. 3. 2. 0.]\n"
     ]
    },
    {
     "data": {
      "text/plain": [
       "array([[162.,   4.,   4., ...,   0.,   0.,   0.],\n",
       "       [175.,   4.,   4., ...,   0.,   0.,   0.],\n",
       "       [132.,   4.,   3., ...,   1.,   0.,   0.],\n",
       "       ...,\n",
       "       [250.,   6.,   4., ...,   0.,   0.,   0.],\n",
       "       [174.,   4.,   4., ...,   0.,   0.,   0.],\n",
       "       [256.,   6.,   4., ...,   0.,   0.,   0.]], shape=(7150, 11))"
      ]
     },
     "execution_count": 113,
     "metadata": {},
     "output_type": "execute_result"
    }
   ],
   "source": [
    "prepare_X(X_train, base, 2017)"
   ]
  },
  {
   "cell_type": "code",
   "execution_count": 143,
   "id": "a8ced20f-5f14-40d0-8535-158298858016",
   "metadata": {},
   "outputs": [
    {
     "data": {
      "text/plain": [
       "np.float64(11.575401901536994)"
      ]
     },
     "execution_count": 143,
     "metadata": {},
     "output_type": "execute_result"
    }
   ],
   "source": [
    "X_train_data = prepare_X(X_train, base, cur_year)\n",
    "w0, w = train_linear_regression(X_train_data, y_train)\n",
    "\n",
    "X_val_data = prepare_X(X_val, base, cur_year)\n",
    "y_pred = w0 + X_val_data.dot(w)\n",
    "\n",
    "rmse(y_val, y_pred)"
   ]
  },
  {
   "cell_type": "code",
   "execution_count": 145,
   "id": "f75eb1c2-29ef-49b6-8d10-52a2c3a1e6f3",
   "metadata": {},
   "outputs": [],
   "source": [
    "makes = list(df.make.value_counts().head().index)"
   ]
  },
  {
   "cell_type": "code",
   "execution_count": 147,
   "id": "cc916bc2-8d7b-4581-9234-458b4f01c869",
   "metadata": {},
   "outputs": [
    {
     "data": {
      "text/plain": [
       "array([[162.,   4.,   4., ...,   0.,   0.,   0.],\n",
       "       [175.,   4.,   4., ...,   0.,   0.,   0.],\n",
       "       [132.,   4.,   3., ...,   0.,   0.,   0.],\n",
       "       ...,\n",
       "       [250.,   6.,   4., ...,   0.,   0.,   1.],\n",
       "       [174.,   4.,   4., ...,   0.,   0.,   0.],\n",
       "       [256.,   6.,   4., ...,   0.,   0.,   0.]], shape=(7150, 16))"
      ]
     },
     "execution_count": 147,
     "metadata": {},
     "output_type": "execute_result"
    }
   ],
   "source": [
    "X_train_data = prepare_X(X_train, base, cur_year)\n",
    "X_train_data"
   ]
  },
  {
   "cell_type": "code",
   "execution_count": 150,
   "id": "28f0fdc0-e3df-4696-ae99-e7c5422f497d",
   "metadata": {},
   "outputs": [
    {
     "data": {
      "text/plain": [
       "np.float64(0.5121870381380089)"
      ]
     },
     "execution_count": 150,
     "metadata": {},
     "output_type": "execute_result"
    }
   ],
   "source": [
    "X_train_data = prepare_X(X_train, base, cur_year)\n",
    "w0, w = train_linear_regression(X_train_data, y_train)\n",
    "\n",
    "X_val_data = prepare_X(X_val, base, cur_year)\n",
    "y_pred = w0 + X_val_data.dot(w)\n",
    "\n",
    "rmse(y_val, y_pred)"
   ]
  },
  {
   "cell_type": "code",
   "execution_count": 151,
   "id": "dd59d6ba-2b49-45b5-a8df-59bee1a0e091",
   "metadata": {},
   "outputs": [
    {
     "data": {
      "text/plain": [
       "make                  object\n",
       "model                 object\n",
       "year                   int64\n",
       "engine_fuel_type      object\n",
       "engine_hp            float64\n",
       "engine_cylinders     float64\n",
       "transmission_type     object\n",
       "driven_wheels         object\n",
       "number_of_doors      float64\n",
       "market_category       object\n",
       "vehicle_size          object\n",
       "vehicle_style         object\n",
       "highway_mpg            int64\n",
       "city_mpg               int64\n",
       "popularity             int64\n",
       "dtype: object"
      ]
     },
     "execution_count": 151,
     "metadata": {},
     "output_type": "execute_result"
    }
   ],
   "source": [
    "X_train.dtypes"
   ]
  },
  {
   "cell_type": "code",
   "execution_count": 164,
   "id": "dfb2599e-d94e-469b-b1df-226b2880802d",
   "metadata": {},
   "outputs": [
    {
     "data": {
      "text/plain": [
       "Index(['make', 'model', 'engine_fuel_type', 'transmission_type',\n",
       "       'driven_wheels', 'market_category', 'vehicle_size', 'vehicle_style'],\n",
       "      dtype='object')"
      ]
     },
     "execution_count": 164,
     "metadata": {},
     "output_type": "execute_result"
    }
   ],
   "source": [
    "categorical_variables = X_train.dtypes[X_train.dtypes == \"object\"].index\n",
    "categorical_variables"
   ]
  },
  {
   "cell_type": "code",
   "execution_count": 166,
   "id": "80ad68a4-7564-4c9d-abc1-e1f41bcc036d",
   "metadata": {},
   "outputs": [],
   "source": [
    "categories = {}\n",
    "\n",
    "for c in categorical_variables:\n",
    "    categories[c] = list(df[c].value_counts().head().index)"
   ]
  },
  {
   "cell_type": "code",
   "execution_count": 167,
   "id": "947b9a91-fb5b-4c03-a0a1-6116781d9f00",
   "metadata": {},
   "outputs": [
    {
     "data": {
      "text/plain": [
       "{'make': ['chevrolet', 'ford', 'volkswagen', 'toyota', 'dodge'],\n",
       " 'model': ['silverado 1500',\n",
       "  'tundra',\n",
       "  'f-150',\n",
       "  'sierra 1500',\n",
       "  'beetle convertible'],\n",
       " 'engine_fuel_type': ['regular unleaded',\n",
       "  'premium unleaded (required)',\n",
       "  'premium unleaded (recommended)',\n",
       "  'flex-fuel (unleaded/e85)',\n",
       "  'diesel'],\n",
       " 'transmission_type': ['automatic',\n",
       "  'manual',\n",
       "  'automated_manual',\n",
       "  'direct_drive',\n",
       "  'unknown'],\n",
       " 'driven_wheels': ['front wheel drive',\n",
       "  'rear wheel drive',\n",
       "  'all wheel drive',\n",
       "  'four wheel drive'],\n",
       " 'market_category': ['crossover',\n",
       "  'flex fuel',\n",
       "  'luxury',\n",
       "  'luxury,performance',\n",
       "  'hatchback'],\n",
       " 'vehicle_size': ['compact', 'midsize', 'large'],\n",
       " 'vehicle_style': ['sedan',\n",
       "  '4dr suv',\n",
       "  'coupe',\n",
       "  'convertible',\n",
       "  '4dr hatchback']}"
      ]
     },
     "execution_count": 167,
     "metadata": {},
     "output_type": "execute_result"
    }
   ],
   "source": [
    "categories"
   ]
  },
  {
   "cell_type": "code",
   "execution_count": 173,
   "id": "74d7d465-5105-4294-8092-381a1a270018",
   "metadata": {},
   "outputs": [],
   "source": [
    "def prepare_X(df, base: list, cur_year: int, categories):\n",
    "    # Make a copy to not change original dataframe\n",
    "    df = df.copy()\n",
    "    features = base.copy()\n",
    "    \n",
    "    df[\"age\"] = cur_year - df.year\n",
    "    features = features + [\"age\"]\n",
    "\n",
    "    # Add number of doors as a trainable feature\n",
    "\n",
    "    df = df.fillna(0)\n",
    "    \n",
    "    for c, values in categories.items():\n",
    "        for v in values:\n",
    "            col_name = f\"{c}_{v}\" \n",
    "            df[col_name] = (df[c] == v).astype(\"int\")\n",
    "            features.append(col_name)\n",
    "            \n",
    "\n",
    "    df_num = df[features]\n",
    "    df_num = df_num.fillna(0).values\n",
    "    return df_num"
   ]
  },
  {
   "cell_type": "code",
   "execution_count": 174,
   "id": "3513a5cf-ead4-48c0-a20e-b4ca071a0d36",
   "metadata": {},
   "outputs": [
    {
     "data": {
      "text/plain": [
       "np.float64(225.28390018211675)"
      ]
     },
     "execution_count": 174,
     "metadata": {},
     "output_type": "execute_result"
    }
   ],
   "source": [
    "X_train_data = prepare_X(X_train, base, cur_year, categories)\n",
    "w0, w = train_linear_regression(X_train_data, y_train)\n",
    "\n",
    "X_val_data = prepare_X(X_val, base, cur_year, categories)\n",
    "y_pred = w0 + X_val_data.dot(w)\n",
    "\n",
    "# This now gives a HUGE RMSE\n",
    "rmse(y_val, y_pred)"
   ]
  },
  {
   "cell_type": "code",
   "execution_count": 176,
   "id": "5022fcaa-25e6-470e-af40-a85de4348696",
   "metadata": {},
   "outputs": [
    {
     "data": {
      "text/plain": [
       "-29171363490268660"
      ]
     },
     "execution_count": 176,
     "metadata": {},
     "output_type": "execute_result"
    }
   ],
   "source": [
    "int(w0)"
   ]
  },
  {
   "cell_type": "code",
   "execution_count": null,
   "id": "366864fd-512a-4da6-a66c-52a75d894bf1",
   "metadata": {},
   "outputs": [],
   "source": []
  }
 ],
 "metadata": {
  "kernelspec": {
   "display_name": "Python 3 (ipykernel)",
   "language": "python",
   "name": "python3"
  },
  "language_info": {
   "codemirror_mode": {
    "name": "ipython",
    "version": 3
   },
   "file_extension": ".py",
   "mimetype": "text/x-python",
   "name": "python",
   "nbconvert_exporter": "python",
   "pygments_lexer": "ipython3",
   "version": "3.12.1"
  }
 },
 "nbformat": 4,
 "nbformat_minor": 5
}
